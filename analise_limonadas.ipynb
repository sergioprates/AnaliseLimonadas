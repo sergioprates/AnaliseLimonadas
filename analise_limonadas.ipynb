{
 "cells": [
  {
   "cell_type": "markdown",
   "metadata": {},
   "source": [
    "# Trabalho de Python"
   ]
  },
  {
   "cell_type": "code",
   "execution_count": 1,
   "metadata": {},
   "outputs": [],
   "source": [
    "import pandas as pd\n",
    "import numpy as np\n",
    "import matplotlib.pyplot as plt\n",
    "import altair as alt\n",
    "from datetime import datetime\n",
    "from sklearn.model_selection import train_test_split\n",
    "from sklearn import linear_model\n",
    "from sklearn.metrics import mean_squared_error"
   ]
  },
  {
   "cell_type": "markdown",
   "metadata": {},
   "source": [
    "#### 1) Leia o arquivo lemonades.csv usando pandas"
   ]
  },
  {
   "cell_type": "code",
   "execution_count": 2,
   "metadata": {},
   "outputs": [],
   "source": [
    "limonadas = pd.read_csv('./data/Lemonade2016(2).csv', sep=';')"
   ]
  },
  {
   "cell_type": "code",
   "execution_count": 3,
   "metadata": {},
   "outputs": [],
   "source": [
    "limonadas.columns = ['Data', 'Local', 'Limao', 'Laranja', 'Temperatura', 'Folhetos', 'Preco']"
   ]
  },
  {
   "cell_type": "code",
   "execution_count": 4,
   "metadata": {},
   "outputs": [],
   "source": [
    "# Convertendo para o formato de datetime\n",
    "limonadas['Data'] = pd.to_datetime(limonadas['Data'], format='%m/%d/%Y')"
   ]
  },
  {
   "cell_type": "code",
   "execution_count": 5,
   "metadata": {},
   "outputs": [
    {
     "data": {
      "text/html": [
       "<div>\n",
       "<style scoped>\n",
       "    .dataframe tbody tr th:only-of-type {\n",
       "        vertical-align: middle;\n",
       "    }\n",
       "\n",
       "    .dataframe tbody tr th {\n",
       "        vertical-align: top;\n",
       "    }\n",
       "\n",
       "    .dataframe thead th {\n",
       "        text-align: right;\n",
       "    }\n",
       "</style>\n",
       "<table border=\"1\" class=\"dataframe\">\n",
       "  <thead>\n",
       "    <tr style=\"text-align: right;\">\n",
       "      <th></th>\n",
       "      <th>Data</th>\n",
       "      <th>Local</th>\n",
       "      <th>Limao</th>\n",
       "      <th>Laranja</th>\n",
       "      <th>Temperatura</th>\n",
       "      <th>Folhetos</th>\n",
       "      <th>Preco</th>\n",
       "    </tr>\n",
       "  </thead>\n",
       "  <tbody>\n",
       "    <tr>\n",
       "      <th>0</th>\n",
       "      <td>2016-07-01</td>\n",
       "      <td>Park</td>\n",
       "      <td>97</td>\n",
       "      <td>67</td>\n",
       "      <td>70</td>\n",
       "      <td>90.0</td>\n",
       "      <td>0.25</td>\n",
       "    </tr>\n",
       "    <tr>\n",
       "      <th>1</th>\n",
       "      <td>2016-07-02</td>\n",
       "      <td>Park</td>\n",
       "      <td>98</td>\n",
       "      <td>67</td>\n",
       "      <td>72</td>\n",
       "      <td>90.0</td>\n",
       "      <td>0.25</td>\n",
       "    </tr>\n",
       "    <tr>\n",
       "      <th>2</th>\n",
       "      <td>2016-07-03</td>\n",
       "      <td>Park</td>\n",
       "      <td>110</td>\n",
       "      <td>77</td>\n",
       "      <td>71</td>\n",
       "      <td>104.0</td>\n",
       "      <td>0.25</td>\n",
       "    </tr>\n",
       "    <tr>\n",
       "      <th>3</th>\n",
       "      <td>2016-07-04</td>\n",
       "      <td>Beach</td>\n",
       "      <td>134</td>\n",
       "      <td>99</td>\n",
       "      <td>76</td>\n",
       "      <td>98.0</td>\n",
       "      <td>0.25</td>\n",
       "    </tr>\n",
       "    <tr>\n",
       "      <th>4</th>\n",
       "      <td>2016-07-05</td>\n",
       "      <td>Beach</td>\n",
       "      <td>159</td>\n",
       "      <td>118</td>\n",
       "      <td>78</td>\n",
       "      <td>135.0</td>\n",
       "      <td>0.25</td>\n",
       "    </tr>\n",
       "  </tbody>\n",
       "</table>\n",
       "</div>"
      ],
      "text/plain": [
       "        Data  Local  Limao  Laranja  Temperatura  Folhetos  Preco\n",
       "0 2016-07-01   Park     97       67           70      90.0   0.25\n",
       "1 2016-07-02   Park     98       67           72      90.0   0.25\n",
       "2 2016-07-03   Park    110       77           71     104.0   0.25\n",
       "3 2016-07-04  Beach    134       99           76      98.0   0.25\n",
       "4 2016-07-05  Beach    159      118           78     135.0   0.25"
      ]
     },
     "execution_count": 5,
     "metadata": {},
     "output_type": "execute_result"
    }
   ],
   "source": [
    "limonadas.head()"
   ]
  },
  {
   "cell_type": "markdown",
   "metadata": {},
   "source": [
    "#### 2) retorne as informações sobre as colunas e as principais estatísticas sobre o dataset"
   ]
  },
  {
   "cell_type": "code",
   "execution_count": 6,
   "metadata": {},
   "outputs": [
    {
     "data": {
      "text/plain": [
       "Data           datetime64[ns]\n",
       "Local                  object\n",
       "Limao                   int64\n",
       "Laranja                 int64\n",
       "Temperatura             int64\n",
       "Folhetos              float64\n",
       "Preco                 float64\n",
       "dtype: object"
      ]
     },
     "execution_count": 6,
     "metadata": {},
     "output_type": "execute_result"
    }
   ],
   "source": [
    "limonadas.dtypes"
   ]
  },
  {
   "cell_type": "code",
   "execution_count": 7,
   "metadata": {},
   "outputs": [
    {
     "name": "stdout",
     "output_type": "stream",
     "text": [
      "<class 'pandas.core.frame.DataFrame'>\n",
      "RangeIndex: 32 entries, 0 to 31\n",
      "Data columns (total 7 columns):\n",
      "Data           31 non-null datetime64[ns]\n",
      "Local          32 non-null object\n",
      "Limao          32 non-null int64\n",
      "Laranja        32 non-null int64\n",
      "Temperatura    32 non-null int64\n",
      "Folhetos       31 non-null float64\n",
      "Preco          32 non-null float64\n",
      "dtypes: datetime64[ns](1), float64(2), int64(3), object(1)\n",
      "memory usage: 1.8+ KB\n"
     ]
    }
   ],
   "source": [
    "limonadas.info()"
   ]
  },
  {
   "cell_type": "code",
   "execution_count": 8,
   "metadata": {},
   "outputs": [
    {
     "data": {
      "text/html": [
       "<div>\n",
       "<style scoped>\n",
       "    .dataframe tbody tr th:only-of-type {\n",
       "        vertical-align: middle;\n",
       "    }\n",
       "\n",
       "    .dataframe tbody tr th {\n",
       "        vertical-align: top;\n",
       "    }\n",
       "\n",
       "    .dataframe thead th {\n",
       "        text-align: right;\n",
       "    }\n",
       "</style>\n",
       "<table border=\"1\" class=\"dataframe\">\n",
       "  <thead>\n",
       "    <tr style=\"text-align: right;\">\n",
       "      <th></th>\n",
       "      <th>Limao</th>\n",
       "      <th>Laranja</th>\n",
       "      <th>Temperatura</th>\n",
       "      <th>Folhetos</th>\n",
       "      <th>Preco</th>\n",
       "    </tr>\n",
       "  </thead>\n",
       "  <tbody>\n",
       "    <tr>\n",
       "      <th>count</th>\n",
       "      <td>32.000000</td>\n",
       "      <td>32.000000</td>\n",
       "      <td>32.000000</td>\n",
       "      <td>31.000000</td>\n",
       "      <td>32.000000</td>\n",
       "    </tr>\n",
       "    <tr>\n",
       "      <th>mean</th>\n",
       "      <td>116.156250</td>\n",
       "      <td>80.000000</td>\n",
       "      <td>78.968750</td>\n",
       "      <td>108.548387</td>\n",
       "      <td>0.354687</td>\n",
       "    </tr>\n",
       "    <tr>\n",
       "      <th>std</th>\n",
       "      <td>25.823357</td>\n",
       "      <td>21.863211</td>\n",
       "      <td>4.067847</td>\n",
       "      <td>20.117718</td>\n",
       "      <td>0.113137</td>\n",
       "    </tr>\n",
       "    <tr>\n",
       "      <th>min</th>\n",
       "      <td>71.000000</td>\n",
       "      <td>42.000000</td>\n",
       "      <td>70.000000</td>\n",
       "      <td>68.000000</td>\n",
       "      <td>0.250000</td>\n",
       "    </tr>\n",
       "    <tr>\n",
       "      <th>25%</th>\n",
       "      <td>98.000000</td>\n",
       "      <td>66.750000</td>\n",
       "      <td>77.000000</td>\n",
       "      <td>90.000000</td>\n",
       "      <td>0.250000</td>\n",
       "    </tr>\n",
       "    <tr>\n",
       "      <th>50%</th>\n",
       "      <td>113.500000</td>\n",
       "      <td>76.500000</td>\n",
       "      <td>80.500000</td>\n",
       "      <td>108.000000</td>\n",
       "      <td>0.350000</td>\n",
       "    </tr>\n",
       "    <tr>\n",
       "      <th>75%</th>\n",
       "      <td>131.750000</td>\n",
       "      <td>95.000000</td>\n",
       "      <td>82.000000</td>\n",
       "      <td>124.000000</td>\n",
       "      <td>0.500000</td>\n",
       "    </tr>\n",
       "    <tr>\n",
       "      <th>max</th>\n",
       "      <td>176.000000</td>\n",
       "      <td>129.000000</td>\n",
       "      <td>84.000000</td>\n",
       "      <td>158.000000</td>\n",
       "      <td>0.500000</td>\n",
       "    </tr>\n",
       "  </tbody>\n",
       "</table>\n",
       "</div>"
      ],
      "text/plain": [
       "            Limao     Laranja  Temperatura    Folhetos      Preco\n",
       "count   32.000000   32.000000    32.000000   31.000000  32.000000\n",
       "mean   116.156250   80.000000    78.968750  108.548387   0.354687\n",
       "std     25.823357   21.863211     4.067847   20.117718   0.113137\n",
       "min     71.000000   42.000000    70.000000   68.000000   0.250000\n",
       "25%     98.000000   66.750000    77.000000   90.000000   0.250000\n",
       "50%    113.500000   76.500000    80.500000  108.000000   0.350000\n",
       "75%    131.750000   95.000000    82.000000  124.000000   0.500000\n",
       "max    176.000000  129.000000    84.000000  158.000000   0.500000"
      ]
     },
     "execution_count": 8,
     "metadata": {},
     "output_type": "execute_result"
    }
   ],
   "source": [
    "limonadas.describe()"
   ]
  },
  {
   "cell_type": "markdown",
   "metadata": {},
   "source": [
    "#### 3)Realize a limpeza do dataset: - verifique se existe valores nulos"
   ]
  },
  {
   "cell_type": "code",
   "execution_count": 9,
   "metadata": {},
   "outputs": [
    {
     "data": {
      "text/plain": [
       "Data           1\n",
       "Local          0\n",
       "Limao          0\n",
       "Laranja        0\n",
       "Temperatura    0\n",
       "Folhetos       1\n",
       "Preco          0\n",
       "dtype: int64"
      ]
     },
     "execution_count": 9,
     "metadata": {},
     "output_type": "execute_result"
    }
   ],
   "source": [
    "limonadas.isna().sum()"
   ]
  },
  {
   "cell_type": "markdown",
   "metadata": {},
   "source": [
    "##### - remova duplicatas"
   ]
  },
  {
   "cell_type": "code",
   "execution_count": 10,
   "metadata": {},
   "outputs": [
    {
     "name": "stdout",
     "output_type": "stream",
     "text": [
      "Valores duplicados: 1\n"
     ]
    },
    {
     "data": {
      "text/html": [
       "<div>\n",
       "<style scoped>\n",
       "    .dataframe tbody tr th:only-of-type {\n",
       "        vertical-align: middle;\n",
       "    }\n",
       "\n",
       "    .dataframe tbody tr th {\n",
       "        vertical-align: top;\n",
       "    }\n",
       "\n",
       "    .dataframe thead th {\n",
       "        text-align: right;\n",
       "    }\n",
       "</style>\n",
       "<table border=\"1\" class=\"dataframe\">\n",
       "  <thead>\n",
       "    <tr style=\"text-align: right;\">\n",
       "      <th></th>\n",
       "      <th>Data</th>\n",
       "      <th>Local</th>\n",
       "      <th>Limao</th>\n",
       "      <th>Laranja</th>\n",
       "      <th>Temperatura</th>\n",
       "      <th>Folhetos</th>\n",
       "      <th>Preco</th>\n",
       "    </tr>\n",
       "  </thead>\n",
       "  <tbody>\n",
       "    <tr>\n",
       "      <th>6</th>\n",
       "      <td>2016-07-06</td>\n",
       "      <td>Beach</td>\n",
       "      <td>103</td>\n",
       "      <td>69</td>\n",
       "      <td>82</td>\n",
       "      <td>90.0</td>\n",
       "      <td>0.25</td>\n",
       "    </tr>\n",
       "  </tbody>\n",
       "</table>\n",
       "</div>"
      ],
      "text/plain": [
       "        Data  Local  Limao  Laranja  Temperatura  Folhetos  Preco\n",
       "6 2016-07-06  Beach    103       69           82      90.0   0.25"
      ]
     },
     "execution_count": 10,
     "metadata": {},
     "output_type": "execute_result"
    }
   ],
   "source": [
    "print('Valores duplicados:', limonadas.duplicated().sum())\n",
    "limonadas[limonadas.duplicated()]"
   ]
  },
  {
   "cell_type": "code",
   "execution_count": 11,
   "metadata": {},
   "outputs": [
    {
     "data": {
      "text/html": [
       "<div>\n",
       "<style scoped>\n",
       "    .dataframe tbody tr th:only-of-type {\n",
       "        vertical-align: middle;\n",
       "    }\n",
       "\n",
       "    .dataframe tbody tr th {\n",
       "        vertical-align: top;\n",
       "    }\n",
       "\n",
       "    .dataframe thead th {\n",
       "        text-align: right;\n",
       "    }\n",
       "</style>\n",
       "<table border=\"1\" class=\"dataframe\">\n",
       "  <thead>\n",
       "    <tr style=\"text-align: right;\">\n",
       "      <th></th>\n",
       "      <th>Data</th>\n",
       "      <th>Local</th>\n",
       "      <th>Limao</th>\n",
       "      <th>Laranja</th>\n",
       "      <th>Temperatura</th>\n",
       "      <th>Folhetos</th>\n",
       "      <th>Preco</th>\n",
       "    </tr>\n",
       "  </thead>\n",
       "  <tbody>\n",
       "  </tbody>\n",
       "</table>\n",
       "</div>"
      ],
      "text/plain": [
       "Empty DataFrame\n",
       "Columns: [Data, Local, Limao, Laranja, Temperatura, Folhetos, Preco]\n",
       "Index: []"
      ]
     },
     "execution_count": 11,
     "metadata": {},
     "output_type": "execute_result"
    }
   ],
   "source": [
    "limonadas = limonadas.drop_duplicates()\n",
    "limonadas[limonadas.duplicated()]"
   ]
  },
  {
   "cell_type": "code",
   "execution_count": 12,
   "metadata": {},
   "outputs": [
    {
     "data": {
      "text/html": [
       "<div>\n",
       "<style scoped>\n",
       "    .dataframe tbody tr th:only-of-type {\n",
       "        vertical-align: middle;\n",
       "    }\n",
       "\n",
       "    .dataframe tbody tr th {\n",
       "        vertical-align: top;\n",
       "    }\n",
       "\n",
       "    .dataframe thead th {\n",
       "        text-align: right;\n",
       "    }\n",
       "</style>\n",
       "<table border=\"1\" class=\"dataframe\">\n",
       "  <thead>\n",
       "    <tr style=\"text-align: right;\">\n",
       "      <th></th>\n",
       "      <th>Data</th>\n",
       "      <th>Local</th>\n",
       "      <th>Limao</th>\n",
       "      <th>Laranja</th>\n",
       "      <th>Temperatura</th>\n",
       "      <th>Folhetos</th>\n",
       "      <th>Preco</th>\n",
       "    </tr>\n",
       "  </thead>\n",
       "  <tbody>\n",
       "    <tr>\n",
       "      <th>0</th>\n",
       "      <td>2016-07-01</td>\n",
       "      <td>Park</td>\n",
       "      <td>97</td>\n",
       "      <td>67</td>\n",
       "      <td>70</td>\n",
       "      <td>90.0</td>\n",
       "      <td>0.25</td>\n",
       "    </tr>\n",
       "    <tr>\n",
       "      <th>1</th>\n",
       "      <td>2016-07-02</td>\n",
       "      <td>Park</td>\n",
       "      <td>98</td>\n",
       "      <td>67</td>\n",
       "      <td>72</td>\n",
       "      <td>90.0</td>\n",
       "      <td>0.25</td>\n",
       "    </tr>\n",
       "    <tr>\n",
       "      <th>2</th>\n",
       "      <td>2016-07-03</td>\n",
       "      <td>Park</td>\n",
       "      <td>110</td>\n",
       "      <td>77</td>\n",
       "      <td>71</td>\n",
       "      <td>104.0</td>\n",
       "      <td>0.25</td>\n",
       "    </tr>\n",
       "    <tr>\n",
       "      <th>3</th>\n",
       "      <td>2016-07-04</td>\n",
       "      <td>Beach</td>\n",
       "      <td>134</td>\n",
       "      <td>99</td>\n",
       "      <td>76</td>\n",
       "      <td>98.0</td>\n",
       "      <td>0.25</td>\n",
       "    </tr>\n",
       "    <tr>\n",
       "      <th>4</th>\n",
       "      <td>2016-07-05</td>\n",
       "      <td>Beach</td>\n",
       "      <td>159</td>\n",
       "      <td>118</td>\n",
       "      <td>78</td>\n",
       "      <td>135.0</td>\n",
       "      <td>0.25</td>\n",
       "    </tr>\n",
       "    <tr>\n",
       "      <th>5</th>\n",
       "      <td>2016-07-06</td>\n",
       "      <td>Beach</td>\n",
       "      <td>103</td>\n",
       "      <td>69</td>\n",
       "      <td>82</td>\n",
       "      <td>90.0</td>\n",
       "      <td>0.25</td>\n",
       "    </tr>\n",
       "    <tr>\n",
       "      <th>6</th>\n",
       "      <td>2016-07-07</td>\n",
       "      <td>Beach</td>\n",
       "      <td>143</td>\n",
       "      <td>101</td>\n",
       "      <td>81</td>\n",
       "      <td>135.0</td>\n",
       "      <td>0.25</td>\n",
       "    </tr>\n",
       "    <tr>\n",
       "      <th>7</th>\n",
       "      <td>NaT</td>\n",
       "      <td>Beach</td>\n",
       "      <td>123</td>\n",
       "      <td>86</td>\n",
       "      <td>82</td>\n",
       "      <td>113.0</td>\n",
       "      <td>0.25</td>\n",
       "    </tr>\n",
       "    <tr>\n",
       "      <th>8</th>\n",
       "      <td>2016-07-09</td>\n",
       "      <td>Beach</td>\n",
       "      <td>134</td>\n",
       "      <td>95</td>\n",
       "      <td>80</td>\n",
       "      <td>126.0</td>\n",
       "      <td>0.25</td>\n",
       "    </tr>\n",
       "    <tr>\n",
       "      <th>9</th>\n",
       "      <td>2016-07-10</td>\n",
       "      <td>Beach</td>\n",
       "      <td>140</td>\n",
       "      <td>98</td>\n",
       "      <td>82</td>\n",
       "      <td>131.0</td>\n",
       "      <td>0.25</td>\n",
       "    </tr>\n",
       "  </tbody>\n",
       "</table>\n",
       "</div>"
      ],
      "text/plain": [
       "        Data  Local  Limao  Laranja  Temperatura  Folhetos  Preco\n",
       "0 2016-07-01   Park     97       67           70      90.0   0.25\n",
       "1 2016-07-02   Park     98       67           72      90.0   0.25\n",
       "2 2016-07-03   Park    110       77           71     104.0   0.25\n",
       "3 2016-07-04  Beach    134       99           76      98.0   0.25\n",
       "4 2016-07-05  Beach    159      118           78     135.0   0.25\n",
       "5 2016-07-06  Beach    103       69           82      90.0   0.25\n",
       "6 2016-07-07  Beach    143      101           81     135.0   0.25\n",
       "7        NaT  Beach    123       86           82     113.0   0.25\n",
       "8 2016-07-09  Beach    134       95           80     126.0   0.25\n",
       "9 2016-07-10  Beach    140       98           82     131.0   0.25"
      ]
     },
     "execution_count": 12,
     "metadata": {},
     "output_type": "execute_result"
    }
   ],
   "source": [
    "limonadas = limonadas.reset_index(drop=True)\n",
    "limonadas.head(10)"
   ]
  },
  {
   "cell_type": "markdown",
   "metadata": {},
   "source": [
    "##### - trate os elementos faltantes (interpolação e media)"
   ]
  },
  {
   "cell_type": "code",
   "execution_count": 13,
   "metadata": {},
   "outputs": [],
   "source": [
    "limonadas['Folhetos'] = limonadas['Folhetos'].fillna(limonadas['Folhetos'].mean())"
   ]
  },
  {
   "cell_type": "code",
   "execution_count": 14,
   "metadata": {},
   "outputs": [
    {
     "data": {
      "text/plain": [
       "Data           1\n",
       "Local          0\n",
       "Limao          0\n",
       "Laranja        0\n",
       "Temperatura    0\n",
       "Folhetos       0\n",
       "Preco          0\n",
       "dtype: int64"
      ]
     },
     "execution_count": 14,
     "metadata": {},
     "output_type": "execute_result"
    }
   ],
   "source": [
    "limonadas.isna().sum()"
   ]
  },
  {
   "cell_type": "code",
   "execution_count": 15,
   "metadata": {},
   "outputs": [
    {
     "data": {
      "text/html": [
       "<div>\n",
       "<style scoped>\n",
       "    .dataframe tbody tr th:only-of-type {\n",
       "        vertical-align: middle;\n",
       "    }\n",
       "\n",
       "    .dataframe tbody tr th {\n",
       "        vertical-align: top;\n",
       "    }\n",
       "\n",
       "    .dataframe thead th {\n",
       "        text-align: right;\n",
       "    }\n",
       "</style>\n",
       "<table border=\"1\" class=\"dataframe\">\n",
       "  <thead>\n",
       "    <tr style=\"text-align: right;\">\n",
       "      <th></th>\n",
       "      <th>Data</th>\n",
       "      <th>Local</th>\n",
       "      <th>Limao</th>\n",
       "      <th>Laranja</th>\n",
       "      <th>Temperatura</th>\n",
       "      <th>Folhetos</th>\n",
       "      <th>Preco</th>\n",
       "    </tr>\n",
       "  </thead>\n",
       "  <tbody>\n",
       "    <tr>\n",
       "      <th>7</th>\n",
       "      <td>NaT</td>\n",
       "      <td>Beach</td>\n",
       "      <td>123</td>\n",
       "      <td>86</td>\n",
       "      <td>82</td>\n",
       "      <td>113.0</td>\n",
       "      <td>0.25</td>\n",
       "    </tr>\n",
       "  </tbody>\n",
       "</table>\n",
       "</div>"
      ],
      "text/plain": [
       "  Data  Local  Limao  Laranja  Temperatura  Folhetos  Preco\n",
       "7  NaT  Beach    123       86           82     113.0   0.25"
      ]
     },
     "execution_count": 15,
     "metadata": {},
     "output_type": "execute_result"
    }
   ],
   "source": [
    "limonadas[limonadas['Data'].isna()]"
   ]
  },
  {
   "cell_type": "code",
   "execution_count": 16,
   "metadata": {},
   "outputs": [
    {
     "data": {
      "text/html": [
       "<div>\n",
       "<style scoped>\n",
       "    .dataframe tbody tr th:only-of-type {\n",
       "        vertical-align: middle;\n",
       "    }\n",
       "\n",
       "    .dataframe tbody tr th {\n",
       "        vertical-align: top;\n",
       "    }\n",
       "\n",
       "    .dataframe thead th {\n",
       "        text-align: right;\n",
       "    }\n",
       "</style>\n",
       "<table border=\"1\" class=\"dataframe\">\n",
       "  <thead>\n",
       "    <tr style=\"text-align: right;\">\n",
       "      <th></th>\n",
       "      <th>Data</th>\n",
       "      <th>Local</th>\n",
       "      <th>Limao</th>\n",
       "      <th>Laranja</th>\n",
       "      <th>Temperatura</th>\n",
       "      <th>Folhetos</th>\n",
       "      <th>Preco</th>\n",
       "    </tr>\n",
       "  </thead>\n",
       "  <tbody>\n",
       "    <tr>\n",
       "      <th>0</th>\n",
       "      <td>2016-07-01</td>\n",
       "      <td>Park</td>\n",
       "      <td>97</td>\n",
       "      <td>67</td>\n",
       "      <td>70</td>\n",
       "      <td>90.0</td>\n",
       "      <td>0.25</td>\n",
       "    </tr>\n",
       "    <tr>\n",
       "      <th>1</th>\n",
       "      <td>2016-07-02</td>\n",
       "      <td>Park</td>\n",
       "      <td>98</td>\n",
       "      <td>67</td>\n",
       "      <td>72</td>\n",
       "      <td>90.0</td>\n",
       "      <td>0.25</td>\n",
       "    </tr>\n",
       "    <tr>\n",
       "      <th>2</th>\n",
       "      <td>2016-07-03</td>\n",
       "      <td>Park</td>\n",
       "      <td>110</td>\n",
       "      <td>77</td>\n",
       "      <td>71</td>\n",
       "      <td>104.0</td>\n",
       "      <td>0.25</td>\n",
       "    </tr>\n",
       "    <tr>\n",
       "      <th>3</th>\n",
       "      <td>2016-07-04</td>\n",
       "      <td>Beach</td>\n",
       "      <td>134</td>\n",
       "      <td>99</td>\n",
       "      <td>76</td>\n",
       "      <td>98.0</td>\n",
       "      <td>0.25</td>\n",
       "    </tr>\n",
       "    <tr>\n",
       "      <th>4</th>\n",
       "      <td>2016-07-05</td>\n",
       "      <td>Beach</td>\n",
       "      <td>159</td>\n",
       "      <td>118</td>\n",
       "      <td>78</td>\n",
       "      <td>135.0</td>\n",
       "      <td>0.25</td>\n",
       "    </tr>\n",
       "    <tr>\n",
       "      <th>5</th>\n",
       "      <td>2016-07-06</td>\n",
       "      <td>Beach</td>\n",
       "      <td>103</td>\n",
       "      <td>69</td>\n",
       "      <td>82</td>\n",
       "      <td>90.0</td>\n",
       "      <td>0.25</td>\n",
       "    </tr>\n",
       "    <tr>\n",
       "      <th>6</th>\n",
       "      <td>2016-07-07</td>\n",
       "      <td>Beach</td>\n",
       "      <td>143</td>\n",
       "      <td>101</td>\n",
       "      <td>81</td>\n",
       "      <td>135.0</td>\n",
       "      <td>0.25</td>\n",
       "    </tr>\n",
       "    <tr>\n",
       "      <th>7</th>\n",
       "      <td>2016-07-08</td>\n",
       "      <td>Beach</td>\n",
       "      <td>123</td>\n",
       "      <td>86</td>\n",
       "      <td>82</td>\n",
       "      <td>113.0</td>\n",
       "      <td>0.25</td>\n",
       "    </tr>\n",
       "    <tr>\n",
       "      <th>8</th>\n",
       "      <td>2016-07-09</td>\n",
       "      <td>Beach</td>\n",
       "      <td>134</td>\n",
       "      <td>95</td>\n",
       "      <td>80</td>\n",
       "      <td>126.0</td>\n",
       "      <td>0.25</td>\n",
       "    </tr>\n",
       "    <tr>\n",
       "      <th>9</th>\n",
       "      <td>2016-07-10</td>\n",
       "      <td>Beach</td>\n",
       "      <td>140</td>\n",
       "      <td>98</td>\n",
       "      <td>82</td>\n",
       "      <td>131.0</td>\n",
       "      <td>0.25</td>\n",
       "    </tr>\n",
       "  </tbody>\n",
       "</table>\n",
       "</div>"
      ],
      "text/plain": [
       "        Data  Local  Limao  Laranja  Temperatura  Folhetos  Preco\n",
       "0 2016-07-01   Park     97       67           70      90.0   0.25\n",
       "1 2016-07-02   Park     98       67           72      90.0   0.25\n",
       "2 2016-07-03   Park    110       77           71     104.0   0.25\n",
       "3 2016-07-04  Beach    134       99           76      98.0   0.25\n",
       "4 2016-07-05  Beach    159      118           78     135.0   0.25\n",
       "5 2016-07-06  Beach    103       69           82      90.0   0.25\n",
       "6 2016-07-07  Beach    143      101           81     135.0   0.25\n",
       "7 2016-07-08  Beach    123       86           82     113.0   0.25\n",
       "8 2016-07-09  Beach    134       95           80     126.0   0.25\n",
       "9 2016-07-10  Beach    140       98           82     131.0   0.25"
      ]
     },
     "execution_count": 16,
     "metadata": {},
     "output_type": "execute_result"
    }
   ],
   "source": [
    "tmp = limonadas['Data'].apply(lambda t: (t-datetime(1970,1,1)).total_seconds())\n",
    "tmp.interpolate(inplace=True) \n",
    "limonadas['Data'] = pd.to_datetime(tmp, unit='s') \n",
    "limonadas['Data'] = limonadas['Data'].apply(lambda t: t.date())\n",
    "limonadas['Data'] = pd.to_datetime(limonadas['Data'], format='%Y-%m-%d')\n",
    "limonadas.head(10)"
   ]
  },
  {
   "cell_type": "markdown",
   "metadata": {},
   "source": [
    "#### 4) Adicione uma coluna chamada \"Sales\" que contém o total de vendas de limão e laranja "
   ]
  },
  {
   "cell_type": "code",
   "execution_count": 17,
   "metadata": {},
   "outputs": [
    {
     "data": {
      "text/html": [
       "<div>\n",
       "<style scoped>\n",
       "    .dataframe tbody tr th:only-of-type {\n",
       "        vertical-align: middle;\n",
       "    }\n",
       "\n",
       "    .dataframe tbody tr th {\n",
       "        vertical-align: top;\n",
       "    }\n",
       "\n",
       "    .dataframe thead th {\n",
       "        text-align: right;\n",
       "    }\n",
       "</style>\n",
       "<table border=\"1\" class=\"dataframe\">\n",
       "  <thead>\n",
       "    <tr style=\"text-align: right;\">\n",
       "      <th></th>\n",
       "      <th>Data</th>\n",
       "      <th>Local</th>\n",
       "      <th>Limao</th>\n",
       "      <th>Laranja</th>\n",
       "      <th>Temperatura</th>\n",
       "      <th>Folhetos</th>\n",
       "      <th>Preco</th>\n",
       "      <th>Sales</th>\n",
       "    </tr>\n",
       "  </thead>\n",
       "  <tbody>\n",
       "    <tr>\n",
       "      <th>0</th>\n",
       "      <td>2016-07-01</td>\n",
       "      <td>Park</td>\n",
       "      <td>97</td>\n",
       "      <td>67</td>\n",
       "      <td>70</td>\n",
       "      <td>90.0</td>\n",
       "      <td>0.25</td>\n",
       "      <td>164</td>\n",
       "    </tr>\n",
       "    <tr>\n",
       "      <th>1</th>\n",
       "      <td>2016-07-02</td>\n",
       "      <td>Park</td>\n",
       "      <td>98</td>\n",
       "      <td>67</td>\n",
       "      <td>72</td>\n",
       "      <td>90.0</td>\n",
       "      <td>0.25</td>\n",
       "      <td>165</td>\n",
       "    </tr>\n",
       "    <tr>\n",
       "      <th>2</th>\n",
       "      <td>2016-07-03</td>\n",
       "      <td>Park</td>\n",
       "      <td>110</td>\n",
       "      <td>77</td>\n",
       "      <td>71</td>\n",
       "      <td>104.0</td>\n",
       "      <td>0.25</td>\n",
       "      <td>187</td>\n",
       "    </tr>\n",
       "    <tr>\n",
       "      <th>3</th>\n",
       "      <td>2016-07-04</td>\n",
       "      <td>Beach</td>\n",
       "      <td>134</td>\n",
       "      <td>99</td>\n",
       "      <td>76</td>\n",
       "      <td>98.0</td>\n",
       "      <td>0.25</td>\n",
       "      <td>233</td>\n",
       "    </tr>\n",
       "    <tr>\n",
       "      <th>4</th>\n",
       "      <td>2016-07-05</td>\n",
       "      <td>Beach</td>\n",
       "      <td>159</td>\n",
       "      <td>118</td>\n",
       "      <td>78</td>\n",
       "      <td>135.0</td>\n",
       "      <td>0.25</td>\n",
       "      <td>277</td>\n",
       "    </tr>\n",
       "  </tbody>\n",
       "</table>\n",
       "</div>"
      ],
      "text/plain": [
       "        Data  Local  Limao  Laranja  Temperatura  Folhetos  Preco  Sales\n",
       "0 2016-07-01   Park     97       67           70      90.0   0.25    164\n",
       "1 2016-07-02   Park     98       67           72      90.0   0.25    165\n",
       "2 2016-07-03   Park    110       77           71     104.0   0.25    187\n",
       "3 2016-07-04  Beach    134       99           76      98.0   0.25    233\n",
       "4 2016-07-05  Beach    159      118           78     135.0   0.25    277"
      ]
     },
     "execution_count": 17,
     "metadata": {},
     "output_type": "execute_result"
    }
   ],
   "source": [
    "limonadas['Sales'] = limonadas['Laranja'] + limonadas['Limao']\n",
    "limonadas.head()"
   ]
  },
  {
   "cell_type": "markdown",
   "metadata": {},
   "source": [
    "#### 5) Adicione uma coluna chamada \"Revenue\" que calcula o lucro (venda*preço) "
   ]
  },
  {
   "cell_type": "code",
   "execution_count": 18,
   "metadata": {},
   "outputs": [
    {
     "data": {
      "text/html": [
       "<div>\n",
       "<style scoped>\n",
       "    .dataframe tbody tr th:only-of-type {\n",
       "        vertical-align: middle;\n",
       "    }\n",
       "\n",
       "    .dataframe tbody tr th {\n",
       "        vertical-align: top;\n",
       "    }\n",
       "\n",
       "    .dataframe thead th {\n",
       "        text-align: right;\n",
       "    }\n",
       "</style>\n",
       "<table border=\"1\" class=\"dataframe\">\n",
       "  <thead>\n",
       "    <tr style=\"text-align: right;\">\n",
       "      <th></th>\n",
       "      <th>Data</th>\n",
       "      <th>Local</th>\n",
       "      <th>Limao</th>\n",
       "      <th>Laranja</th>\n",
       "      <th>Temperatura</th>\n",
       "      <th>Folhetos</th>\n",
       "      <th>Preco</th>\n",
       "      <th>Sales</th>\n",
       "      <th>Revenue</th>\n",
       "    </tr>\n",
       "  </thead>\n",
       "  <tbody>\n",
       "    <tr>\n",
       "      <th>0</th>\n",
       "      <td>2016-07-01</td>\n",
       "      <td>Park</td>\n",
       "      <td>97</td>\n",
       "      <td>67</td>\n",
       "      <td>70</td>\n",
       "      <td>90.0</td>\n",
       "      <td>0.25</td>\n",
       "      <td>164</td>\n",
       "      <td>41.00</td>\n",
       "    </tr>\n",
       "    <tr>\n",
       "      <th>1</th>\n",
       "      <td>2016-07-02</td>\n",
       "      <td>Park</td>\n",
       "      <td>98</td>\n",
       "      <td>67</td>\n",
       "      <td>72</td>\n",
       "      <td>90.0</td>\n",
       "      <td>0.25</td>\n",
       "      <td>165</td>\n",
       "      <td>41.25</td>\n",
       "    </tr>\n",
       "    <tr>\n",
       "      <th>2</th>\n",
       "      <td>2016-07-03</td>\n",
       "      <td>Park</td>\n",
       "      <td>110</td>\n",
       "      <td>77</td>\n",
       "      <td>71</td>\n",
       "      <td>104.0</td>\n",
       "      <td>0.25</td>\n",
       "      <td>187</td>\n",
       "      <td>46.75</td>\n",
       "    </tr>\n",
       "    <tr>\n",
       "      <th>3</th>\n",
       "      <td>2016-07-04</td>\n",
       "      <td>Beach</td>\n",
       "      <td>134</td>\n",
       "      <td>99</td>\n",
       "      <td>76</td>\n",
       "      <td>98.0</td>\n",
       "      <td>0.25</td>\n",
       "      <td>233</td>\n",
       "      <td>58.25</td>\n",
       "    </tr>\n",
       "    <tr>\n",
       "      <th>4</th>\n",
       "      <td>2016-07-05</td>\n",
       "      <td>Beach</td>\n",
       "      <td>159</td>\n",
       "      <td>118</td>\n",
       "      <td>78</td>\n",
       "      <td>135.0</td>\n",
       "      <td>0.25</td>\n",
       "      <td>277</td>\n",
       "      <td>69.25</td>\n",
       "    </tr>\n",
       "  </tbody>\n",
       "</table>\n",
       "</div>"
      ],
      "text/plain": [
       "        Data  Local  Limao  Laranja  Temperatura  Folhetos  Preco  Sales  \\\n",
       "0 2016-07-01   Park     97       67           70      90.0   0.25    164   \n",
       "1 2016-07-02   Park     98       67           72      90.0   0.25    165   \n",
       "2 2016-07-03   Park    110       77           71     104.0   0.25    187   \n",
       "3 2016-07-04  Beach    134       99           76      98.0   0.25    233   \n",
       "4 2016-07-05  Beach    159      118           78     135.0   0.25    277   \n",
       "\n",
       "   Revenue  \n",
       "0    41.00  \n",
       "1    41.25  \n",
       "2    46.75  \n",
       "3    58.25  \n",
       "4    69.25  "
      ]
     },
     "execution_count": 18,
     "metadata": {},
     "output_type": "execute_result"
    }
   ],
   "source": [
    "limonadas['Revenue'] = limonadas['Sales'] * limonadas['Preco']\n",
    "limonadas.head()"
   ]
  },
  {
   "cell_type": "markdown",
   "metadata": {},
   "source": [
    "#### 6) retorne o lucro total "
   ]
  },
  {
   "cell_type": "code",
   "execution_count": 19,
   "metadata": {},
   "outputs": [
    {
     "data": {
      "text/plain": [
       "2138.0"
      ]
     },
     "execution_count": 19,
     "metadata": {},
     "output_type": "execute_result"
    }
   ],
   "source": [
    "limonadas['Revenue'].sum()"
   ]
  },
  {
   "cell_type": "markdown",
   "metadata": {},
   "source": [
    "#### 7) escreva uma função que receba dois parâmetros, dataset e temp(int). Se max for 1, ele retorna a máxima temperatura observada no conjunto de dados; se 0, retorna a média do período observado; se -1, retorna a temperatura mínima \n"
   ]
  },
  {
   "cell_type": "code",
   "execution_count": 20,
   "metadata": {},
   "outputs": [],
   "source": [
    "def obter_dados_temperatura(dataset, temp):\n",
    "    temperatura = dataset['Temperatura']\n",
    "    if temp == 1: return temperatura.max()\n",
    "    elif temp == 0: return temperatura.mean()\n",
    "    elif temp == -1: return temperatura.min()\n",
    "    else: return 0    "
   ]
  },
  {
   "cell_type": "code",
   "execution_count": 21,
   "metadata": {},
   "outputs": [
    {
     "name": "stdout",
     "output_type": "stream",
     "text": [
      "Para 1: 84\n",
      "Para 0: 78.87096774193549\n",
      "Para -1: 70\n"
     ]
    }
   ],
   "source": [
    "print('Para 1:', obter_dados_temperatura(limonadas, 1))\n",
    "print('Para 0:', obter_dados_temperatura(limonadas, 0))\n",
    "print('Para -1:', obter_dados_temperatura(limonadas, -1))"
   ]
  },
  {
   "cell_type": "markdown",
   "metadata": {},
   "source": [
    "#### 8) escreva uma função que receba dois parametros (dataset, localização) e retorne o dataset com o preço do limão e laranja ajustados em 15% se a localização for 'Park' ou ajustados em 10% se a localização for 'Beach' "
   ]
  },
  {
   "cell_type": "code",
   "execution_count": 22,
   "metadata": {},
   "outputs": [],
   "source": [
    "def obter_preco_ajustado(dataset, localizacao):\n",
    "    novoDataSet = dataset[dataset['Local'] == localizacao].copy()\n",
    "    if localizacao == 'Park':\n",
    "        novoDataSet['Preco'] = novoDataSet['Preco'] + (novoDataSet['Preco'] * .15)\n",
    "        return novoDataSet\n",
    "    elif localizacao == 'Beach':\n",
    "        novoDataSet['Preco'] = novoDataSet['Preco'] +  (novoDataSet['Preco'] * 0.1)\n",
    "        return novoDataSet\n",
    "    else: return novoDataSet"
   ]
  },
  {
   "cell_type": "code",
   "execution_count": 23,
   "metadata": {},
   "outputs": [
    {
     "data": {
      "text/html": [
       "<div>\n",
       "<style scoped>\n",
       "    .dataframe tbody tr th:only-of-type {\n",
       "        vertical-align: middle;\n",
       "    }\n",
       "\n",
       "    .dataframe tbody tr th {\n",
       "        vertical-align: top;\n",
       "    }\n",
       "\n",
       "    .dataframe thead th {\n",
       "        text-align: right;\n",
       "    }\n",
       "</style>\n",
       "<table border=\"1\" class=\"dataframe\">\n",
       "  <thead>\n",
       "    <tr style=\"text-align: right;\">\n",
       "      <th></th>\n",
       "      <th>Data</th>\n",
       "      <th>Local</th>\n",
       "      <th>Limao</th>\n",
       "      <th>Laranja</th>\n",
       "      <th>Temperatura</th>\n",
       "      <th>Folhetos</th>\n",
       "      <th>Preco</th>\n",
       "      <th>Sales</th>\n",
       "      <th>Revenue</th>\n",
       "    </tr>\n",
       "  </thead>\n",
       "  <tbody>\n",
       "    <tr>\n",
       "      <th>0</th>\n",
       "      <td>2016-07-01</td>\n",
       "      <td>Park</td>\n",
       "      <td>97</td>\n",
       "      <td>67</td>\n",
       "      <td>70</td>\n",
       "      <td>90.0</td>\n",
       "      <td>0.2875</td>\n",
       "      <td>164</td>\n",
       "      <td>41.00</td>\n",
       "    </tr>\n",
       "    <tr>\n",
       "      <th>1</th>\n",
       "      <td>2016-07-02</td>\n",
       "      <td>Park</td>\n",
       "      <td>98</td>\n",
       "      <td>67</td>\n",
       "      <td>72</td>\n",
       "      <td>90.0</td>\n",
       "      <td>0.2875</td>\n",
       "      <td>165</td>\n",
       "      <td>41.25</td>\n",
       "    </tr>\n",
       "    <tr>\n",
       "      <th>2</th>\n",
       "      <td>2016-07-03</td>\n",
       "      <td>Park</td>\n",
       "      <td>110</td>\n",
       "      <td>77</td>\n",
       "      <td>71</td>\n",
       "      <td>104.0</td>\n",
       "      <td>0.2875</td>\n",
       "      <td>187</td>\n",
       "      <td>46.75</td>\n",
       "    </tr>\n",
       "    <tr>\n",
       "      <th>17</th>\n",
       "      <td>2016-07-18</td>\n",
       "      <td>Park</td>\n",
       "      <td>131</td>\n",
       "      <td>92</td>\n",
       "      <td>81</td>\n",
       "      <td>122.0</td>\n",
       "      <td>0.5750</td>\n",
       "      <td>223</td>\n",
       "      <td>111.50</td>\n",
       "    </tr>\n",
       "    <tr>\n",
       "      <th>18</th>\n",
       "      <td>2016-07-19</td>\n",
       "      <td>Park</td>\n",
       "      <td>122</td>\n",
       "      <td>85</td>\n",
       "      <td>78</td>\n",
       "      <td>113.0</td>\n",
       "      <td>0.5750</td>\n",
       "      <td>207</td>\n",
       "      <td>103.50</td>\n",
       "    </tr>\n",
       "  </tbody>\n",
       "</table>\n",
       "</div>"
      ],
      "text/plain": [
       "         Data Local  Limao  Laranja  Temperatura  Folhetos   Preco  Sales  \\\n",
       "0  2016-07-01  Park     97       67           70      90.0  0.2875    164   \n",
       "1  2016-07-02  Park     98       67           72      90.0  0.2875    165   \n",
       "2  2016-07-03  Park    110       77           71     104.0  0.2875    187   \n",
       "17 2016-07-18  Park    131       92           81     122.0  0.5750    223   \n",
       "18 2016-07-19  Park    122       85           78     113.0  0.5750    207   \n",
       "\n",
       "    Revenue  \n",
       "0     41.00  \n",
       "1     41.25  \n",
       "2     46.75  \n",
       "17   111.50  \n",
       "18   103.50  "
      ]
     },
     "execution_count": 23,
     "metadata": {},
     "output_type": "execute_result"
    }
   ],
   "source": [
    "aux = obter_preco_ajustado(limonadas, 'Park')\n",
    "aux[aux['Local'] == 'Park'].head()"
   ]
  },
  {
   "cell_type": "code",
   "execution_count": 24,
   "metadata": {},
   "outputs": [
    {
     "data": {
      "text/html": [
       "<div>\n",
       "<style scoped>\n",
       "    .dataframe tbody tr th:only-of-type {\n",
       "        vertical-align: middle;\n",
       "    }\n",
       "\n",
       "    .dataframe tbody tr th {\n",
       "        vertical-align: top;\n",
       "    }\n",
       "\n",
       "    .dataframe thead th {\n",
       "        text-align: right;\n",
       "    }\n",
       "</style>\n",
       "<table border=\"1\" class=\"dataframe\">\n",
       "  <thead>\n",
       "    <tr style=\"text-align: right;\">\n",
       "      <th></th>\n",
       "      <th>Data</th>\n",
       "      <th>Local</th>\n",
       "      <th>Limao</th>\n",
       "      <th>Laranja</th>\n",
       "      <th>Temperatura</th>\n",
       "      <th>Folhetos</th>\n",
       "      <th>Preco</th>\n",
       "      <th>Sales</th>\n",
       "      <th>Revenue</th>\n",
       "    </tr>\n",
       "  </thead>\n",
       "  <tbody>\n",
       "    <tr>\n",
       "      <th>3</th>\n",
       "      <td>2016-07-04</td>\n",
       "      <td>Beach</td>\n",
       "      <td>134</td>\n",
       "      <td>99</td>\n",
       "      <td>76</td>\n",
       "      <td>98.0</td>\n",
       "      <td>0.275</td>\n",
       "      <td>233</td>\n",
       "      <td>58.25</td>\n",
       "    </tr>\n",
       "    <tr>\n",
       "      <th>4</th>\n",
       "      <td>2016-07-05</td>\n",
       "      <td>Beach</td>\n",
       "      <td>159</td>\n",
       "      <td>118</td>\n",
       "      <td>78</td>\n",
       "      <td>135.0</td>\n",
       "      <td>0.275</td>\n",
       "      <td>277</td>\n",
       "      <td>69.25</td>\n",
       "    </tr>\n",
       "    <tr>\n",
       "      <th>5</th>\n",
       "      <td>2016-07-06</td>\n",
       "      <td>Beach</td>\n",
       "      <td>103</td>\n",
       "      <td>69</td>\n",
       "      <td>82</td>\n",
       "      <td>90.0</td>\n",
       "      <td>0.275</td>\n",
       "      <td>172</td>\n",
       "      <td>43.00</td>\n",
       "    </tr>\n",
       "    <tr>\n",
       "      <th>6</th>\n",
       "      <td>2016-07-07</td>\n",
       "      <td>Beach</td>\n",
       "      <td>143</td>\n",
       "      <td>101</td>\n",
       "      <td>81</td>\n",
       "      <td>135.0</td>\n",
       "      <td>0.275</td>\n",
       "      <td>244</td>\n",
       "      <td>61.00</td>\n",
       "    </tr>\n",
       "    <tr>\n",
       "      <th>7</th>\n",
       "      <td>2016-07-08</td>\n",
       "      <td>Beach</td>\n",
       "      <td>123</td>\n",
       "      <td>86</td>\n",
       "      <td>82</td>\n",
       "      <td>113.0</td>\n",
       "      <td>0.275</td>\n",
       "      <td>209</td>\n",
       "      <td>52.25</td>\n",
       "    </tr>\n",
       "  </tbody>\n",
       "</table>\n",
       "</div>"
      ],
      "text/plain": [
       "        Data  Local  Limao  Laranja  Temperatura  Folhetos  Preco  Sales  \\\n",
       "3 2016-07-04  Beach    134       99           76      98.0  0.275    233   \n",
       "4 2016-07-05  Beach    159      118           78     135.0  0.275    277   \n",
       "5 2016-07-06  Beach    103       69           82      90.0  0.275    172   \n",
       "6 2016-07-07  Beach    143      101           81     135.0  0.275    244   \n",
       "7 2016-07-08  Beach    123       86           82     113.0  0.275    209   \n",
       "\n",
       "   Revenue  \n",
       "3    58.25  \n",
       "4    69.25  \n",
       "5    43.00  \n",
       "6    61.00  \n",
       "7    52.25  "
      ]
     },
     "execution_count": 24,
     "metadata": {},
     "output_type": "execute_result"
    }
   ],
   "source": [
    "aux = obter_preco_ajustado(limonadas, 'Beach')\n",
    "aux[aux['Local'] == 'Beach'].head()"
   ]
  },
  {
   "cell_type": "markdown",
   "metadata": {},
   "source": [
    "#### 9) escreva uma função que receba o dataset como parâmetro e retorne o dataset com uma coluna a mais que mostre o rank de temperatura. O dataset retornado precisa estar ordenado de acordo com rank "
   ]
  },
  {
   "cell_type": "code",
   "execution_count": 25,
   "metadata": {},
   "outputs": [],
   "source": [
    "def obter_rank_temperatura(dataset, campo):\n",
    "    dataset['Rank'] = dataset[campo].rank(ascending = 0)\n",
    "    return dataset.sort_values(by=['Rank']);"
   ]
  },
  {
   "cell_type": "code",
   "execution_count": 26,
   "metadata": {},
   "outputs": [
    {
     "data": {
      "text/html": [
       "<div>\n",
       "<style scoped>\n",
       "    .dataframe tbody tr th:only-of-type {\n",
       "        vertical-align: middle;\n",
       "    }\n",
       "\n",
       "    .dataframe tbody tr th {\n",
       "        vertical-align: top;\n",
       "    }\n",
       "\n",
       "    .dataframe thead th {\n",
       "        text-align: right;\n",
       "    }\n",
       "</style>\n",
       "<table border=\"1\" class=\"dataframe\">\n",
       "  <thead>\n",
       "    <tr style=\"text-align: right;\">\n",
       "      <th></th>\n",
       "      <th>Data</th>\n",
       "      <th>Local</th>\n",
       "      <th>Limao</th>\n",
       "      <th>Laranja</th>\n",
       "      <th>Temperatura</th>\n",
       "      <th>Folhetos</th>\n",
       "      <th>Preco</th>\n",
       "      <th>Sales</th>\n",
       "      <th>Revenue</th>\n",
       "      <th>Rank</th>\n",
       "    </tr>\n",
       "  </thead>\n",
       "  <tbody>\n",
       "    <tr>\n",
       "      <th>24</th>\n",
       "      <td>2016-07-25</td>\n",
       "      <td>Park</td>\n",
       "      <td>156</td>\n",
       "      <td>113</td>\n",
       "      <td>84</td>\n",
       "      <td>135.0</td>\n",
       "      <td>0.50</td>\n",
       "      <td>269</td>\n",
       "      <td>134.50</td>\n",
       "      <td>1.5</td>\n",
       "    </tr>\n",
       "    <tr>\n",
       "      <th>11</th>\n",
       "      <td>2016-07-12</td>\n",
       "      <td>Beach</td>\n",
       "      <td>130</td>\n",
       "      <td>95</td>\n",
       "      <td>84</td>\n",
       "      <td>99.0</td>\n",
       "      <td>0.25</td>\n",
       "      <td>225</td>\n",
       "      <td>56.25</td>\n",
       "      <td>1.5</td>\n",
       "    </tr>\n",
       "    <tr>\n",
       "      <th>25</th>\n",
       "      <td>2016-07-26</td>\n",
       "      <td>Park</td>\n",
       "      <td>176</td>\n",
       "      <td>129</td>\n",
       "      <td>83</td>\n",
       "      <td>158.0</td>\n",
       "      <td>0.35</td>\n",
       "      <td>305</td>\n",
       "      <td>106.75</td>\n",
       "      <td>3.5</td>\n",
       "    </tr>\n",
       "    <tr>\n",
       "      <th>10</th>\n",
       "      <td>2016-07-11</td>\n",
       "      <td>Beach</td>\n",
       "      <td>162</td>\n",
       "      <td>120</td>\n",
       "      <td>83</td>\n",
       "      <td>135.0</td>\n",
       "      <td>0.25</td>\n",
       "      <td>282</td>\n",
       "      <td>70.50</td>\n",
       "      <td>3.5</td>\n",
       "    </tr>\n",
       "    <tr>\n",
       "      <th>23</th>\n",
       "      <td>2016-07-24</td>\n",
       "      <td>Park</td>\n",
       "      <td>121</td>\n",
       "      <td>82</td>\n",
       "      <td>82</td>\n",
       "      <td>117.0</td>\n",
       "      <td>0.50</td>\n",
       "      <td>203</td>\n",
       "      <td>101.50</td>\n",
       "      <td>8.0</td>\n",
       "    </tr>\n",
       "  </tbody>\n",
       "</table>\n",
       "</div>"
      ],
      "text/plain": [
       "         Data  Local  Limao  Laranja  Temperatura  Folhetos  Preco  Sales  \\\n",
       "24 2016-07-25   Park    156      113           84     135.0   0.50    269   \n",
       "11 2016-07-12  Beach    130       95           84      99.0   0.25    225   \n",
       "25 2016-07-26   Park    176      129           83     158.0   0.35    305   \n",
       "10 2016-07-11  Beach    162      120           83     135.0   0.25    282   \n",
       "23 2016-07-24   Park    121       82           82     117.0   0.50    203   \n",
       "\n",
       "    Revenue  Rank  \n",
       "24   134.50   1.5  \n",
       "11    56.25   1.5  \n",
       "25   106.75   3.5  \n",
       "10    70.50   3.5  \n",
       "23   101.50   8.0  "
      ]
     },
     "execution_count": 26,
     "metadata": {},
     "output_type": "execute_result"
    }
   ],
   "source": [
    "limonadas = obter_rank_temperatura(limonadas, 'Temperatura')\n",
    "limonadas.head()"
   ]
  },
  {
   "cell_type": "markdown",
   "metadata": {},
   "source": [
    "#### 10) Imprima um gráfico de linha que retorne o lucro ao longo do tempo "
   ]
  },
  {
   "cell_type": "code",
   "execution_count": 81,
   "metadata": {},
   "outputs": [
    {
     "data": {
      "image/png": "[encoded data removed]",
      "text/plain": [
       "<Figure size 1440x720 with 1 Axes>"
      ]
     },
     "metadata": {
      "needs_background": "light"
     },
     "output_type": "display_data"
    }
   ],
   "source": [
    "limonadas = limonadas.sort_values(by='Data')\n",
    "plt.rcParams[\"figure.figsize\"] = [20,10]\n",
    "plt.plot(limonadas['Data'], limonadas['Revenue'], label='Lucro')\n",
    "plt.xlabel('Período')\n",
    "plt.ylabel('Receita')\n",
    "plt.title(\"Lucro x Período\")\n",
    "plt.legend()\n",
    "plt.show()"
   ]
  },
  {
   "cell_type": "markdown",
   "metadata": {},
   "source": [
    "Neste gráfico podemos observar que existem períodos de grande alta e de grande baixa, parece se tratar de algo sazonal, específico de pequenos períodos que talvez valham a pena serem analisados mais de perto."
   ]
  },
  {
   "cell_type": "markdown",
   "metadata": {},
   "source": [
    "#### 11) crie um scatter-plot leaflets x sales. Existe alguma correlação entre os dados? "
   ]
  },
  {
   "cell_type": "code",
   "execution_count": 28,
   "metadata": {},
   "outputs": [
    {
     "data": {
      "text/plain": [
       "Text(0.5,1,'Comparação Folhetos x Vendas')"
      ]
     },
     "execution_count": 28,
     "metadata": {},
     "output_type": "execute_result"
    },
    {
     "data": {
      "image/png": "[encoded data removed]",
      "text/plain": [
       "<Figure size 1440x720 with 1 Axes>"
      ]
     },
     "metadata": {
      "needs_background": "light"
     },
     "output_type": "display_data"
    }
   ],
   "source": [
    "plt.scatter(limonadas['Folhetos'], limonadas['Sales'], color='r')\n",
    "plt.legend()\n",
    "plt.xlabel(\"Folhetos\")\n",
    "plt.ylabel(\"Vendas\")\n",
    "plt.title(\"Comparação Folhetos x Vendas\")"
   ]
  },
  {
   "cell_type": "markdown",
   "metadata": {},
   "source": [
    "Sim, a correlação apresentada no gráfico é que quanto maior for as entregas de folhetos, maior será as vendas. Esta correlação mostra que esta ação é eficiente para as vendas."
   ]
  },
  {
   "cell_type": "markdown",
   "metadata": {},
   "source": [
    "#### 12) crie um histograma que mostre o lucro (revenue) com 10 bins"
   ]
  },
  {
   "cell_type": "code",
   "execution_count": 29,
   "metadata": {},
   "outputs": [],
   "source": [
    "def obter_histograma(atributo, dados, titulo, bins):\n",
    "    plt.hist(dados[atributo], density=False, facecolor='g', alpha=0.75, bins=bins)\n",
    "\n",
    "    plt.axvline(dados[atributo].mean(), color='k', linestyle='dashed', linewidth=1)\n",
    "    plt.xlabel(titulo)\n",
    "    plt.ylabel(atributo)\n",
    "    plt.title('Histograma de ' + atributo)\n",
    "    plt.grid(True)\n",
    "    plt.show()"
   ]
  },
  {
   "cell_type": "code",
   "execution_count": 30,
   "metadata": {},
   "outputs": [
    {
     "data": {
      "image/png": "[encoded data removed]",
      "text/plain": [
       "<Figure size 1440x720 with 1 Axes>"
      ]
     },
     "metadata": {
      "needs_background": "light"
     },
     "output_type": "display_data"
    }
   ],
   "source": [
    "obter_histograma('Revenue', limonadas, 'Histograma de Receita', 10)"
   ]
  },
  {
   "cell_type": "markdown",
   "metadata": {},
   "source": [
    "Neste histograma, podemos avaliar que os valores do lucro estão distribuídos entre o menor e o maior valor, além de que possui um buraco em 120. E podemos afirmar que a maior parte do lucro está entre 40 e 60 por dia. "
   ]
  },
  {
   "cell_type": "markdown",
   "metadata": {},
   "source": [
    "#### 13) crie um gráfico de linha que compute o lucro por tipo de fruta ao longo do tempo"
   ]
  },
  {
   "cell_type": "code",
   "execution_count": 31,
   "metadata": {},
   "outputs": [
    {
     "data": {
      "text/html": [
       "<div>\n",
       "<style scoped>\n",
       "    .dataframe tbody tr th:only-of-type {\n",
       "        vertical-align: middle;\n",
       "    }\n",
       "\n",
       "    .dataframe tbody tr th {\n",
       "        vertical-align: top;\n",
       "    }\n",
       "\n",
       "    .dataframe thead th {\n",
       "        text-align: right;\n",
       "    }\n",
       "</style>\n",
       "<table border=\"1\" class=\"dataframe\">\n",
       "  <thead>\n",
       "    <tr style=\"text-align: right;\">\n",
       "      <th></th>\n",
       "      <th>Data</th>\n",
       "      <th>Local</th>\n",
       "      <th>Limao</th>\n",
       "      <th>Laranja</th>\n",
       "      <th>Temperatura</th>\n",
       "      <th>Folhetos</th>\n",
       "      <th>Preco</th>\n",
       "      <th>Sales</th>\n",
       "      <th>Revenue</th>\n",
       "      <th>Rank</th>\n",
       "      <th>LucroLimao</th>\n",
       "      <th>LucroLaranja</th>\n",
       "    </tr>\n",
       "  </thead>\n",
       "  <tbody>\n",
       "    <tr>\n",
       "      <th>0</th>\n",
       "      <td>2016-07-01</td>\n",
       "      <td>Park</td>\n",
       "      <td>97</td>\n",
       "      <td>67</td>\n",
       "      <td>70</td>\n",
       "      <td>90.0</td>\n",
       "      <td>0.25</td>\n",
       "      <td>164</td>\n",
       "      <td>41.00</td>\n",
       "      <td>30.5</td>\n",
       "      <td>24.25</td>\n",
       "      <td>16.75</td>\n",
       "    </tr>\n",
       "    <tr>\n",
       "      <th>1</th>\n",
       "      <td>2016-07-02</td>\n",
       "      <td>Park</td>\n",
       "      <td>98</td>\n",
       "      <td>67</td>\n",
       "      <td>72</td>\n",
       "      <td>90.0</td>\n",
       "      <td>0.25</td>\n",
       "      <td>165</td>\n",
       "      <td>41.25</td>\n",
       "      <td>28.0</td>\n",
       "      <td>24.50</td>\n",
       "      <td>16.75</td>\n",
       "    </tr>\n",
       "    <tr>\n",
       "      <th>2</th>\n",
       "      <td>2016-07-03</td>\n",
       "      <td>Park</td>\n",
       "      <td>110</td>\n",
       "      <td>77</td>\n",
       "      <td>71</td>\n",
       "      <td>104.0</td>\n",
       "      <td>0.25</td>\n",
       "      <td>187</td>\n",
       "      <td>46.75</td>\n",
       "      <td>29.0</td>\n",
       "      <td>27.50</td>\n",
       "      <td>19.25</td>\n",
       "    </tr>\n",
       "    <tr>\n",
       "      <th>3</th>\n",
       "      <td>2016-07-04</td>\n",
       "      <td>Beach</td>\n",
       "      <td>134</td>\n",
       "      <td>99</td>\n",
       "      <td>76</td>\n",
       "      <td>98.0</td>\n",
       "      <td>0.25</td>\n",
       "      <td>233</td>\n",
       "      <td>58.25</td>\n",
       "      <td>25.0</td>\n",
       "      <td>33.50</td>\n",
       "      <td>24.75</td>\n",
       "    </tr>\n",
       "    <tr>\n",
       "      <th>4</th>\n",
       "      <td>2016-07-05</td>\n",
       "      <td>Beach</td>\n",
       "      <td>159</td>\n",
       "      <td>118</td>\n",
       "      <td>78</td>\n",
       "      <td>135.0</td>\n",
       "      <td>0.25</td>\n",
       "      <td>277</td>\n",
       "      <td>69.25</td>\n",
       "      <td>20.0</td>\n",
       "      <td>39.75</td>\n",
       "      <td>29.50</td>\n",
       "    </tr>\n",
       "  </tbody>\n",
       "</table>\n",
       "</div>"
      ],
      "text/plain": [
       "        Data  Local  Limao  Laranja  Temperatura  Folhetos  Preco  Sales  \\\n",
       "0 2016-07-01   Park     97       67           70      90.0   0.25    164   \n",
       "1 2016-07-02   Park     98       67           72      90.0   0.25    165   \n",
       "2 2016-07-03   Park    110       77           71     104.0   0.25    187   \n",
       "3 2016-07-04  Beach    134       99           76      98.0   0.25    233   \n",
       "4 2016-07-05  Beach    159      118           78     135.0   0.25    277   \n",
       "\n",
       "   Revenue  Rank  LucroLimao  LucroLaranja  \n",
       "0    41.00  30.5       24.25         16.75  \n",
       "1    41.25  28.0       24.50         16.75  \n",
       "2    46.75  29.0       27.50         19.25  \n",
       "3    58.25  25.0       33.50         24.75  \n",
       "4    69.25  20.0       39.75         29.50  "
      ]
     },
     "execution_count": 31,
     "metadata": {},
     "output_type": "execute_result"
    }
   ],
   "source": [
    "limonadas['LucroLimao'] = limonadas['Limao'] * limonadas['Preco']\n",
    "limonadas['LucroLaranja'] = limonadas['Laranja'] * limonadas['Preco']\n",
    "limonadas.head()"
   ]
  },
  {
   "cell_type": "code",
   "execution_count": 32,
   "metadata": {},
   "outputs": [
    {
     "data": {
      "image/png": "[encoded data removed]",
      "text/plain": [
       "<Figure size 1440x720 with 1 Axes>"
      ]
     },
     "metadata": {
      "needs_background": "light"
     },
     "output_type": "display_data"
    }
   ],
   "source": [
    "lucroLimao = limonadas['LucroLimao']\n",
    "lucroLaranja = limonadas['LucroLaranja']\n",
    "\n",
    "lucroLimao.index = limonadas['Data']\n",
    "lucroLaranja.index = limonadas['Data']\n",
    "\n",
    "plt.plot(lucroLimao.index, lucroLimao, label='Limão')\n",
    "plt.plot(lucroLaranja.index, lucroLaranja, label='Laranja')\n",
    "\n",
    "plt.xlabel('Data')\n",
    "plt.ylabel('Lucro')\n",
    "plt.title(\"Lucro por fruta por tempo\")\n",
    "plt.legend()\n",
    "plt.show()"
   ]
  },
  {
   "cell_type": "markdown",
   "metadata": {},
   "source": [
    "Podemos observar que a venda de limão é maior que a de laranja, mas que a relação de venda entre as frutas são proporcionais, ou seja, quando a venda de limão aumenta, a venda de laranja aumenta com a mesma proporção."
   ]
  },
  {
   "cell_type": "markdown",
   "metadata": {},
   "source": [
    "#### 14) usando regressão linear, prediga vendas a partir de: temperature"
   ]
  },
  {
   "cell_type": "code",
   "execution_count": 33,
   "metadata": {},
   "outputs": [],
   "source": [
    "class LinearRegression():\n",
    "    \n",
    "    def cost_function(self,X,y,theta):\n",
    "        m = len(y) #número de amostras\n",
    "        J = 0 # custo\n",
    "        \n",
    "        for i in range(m):\n",
    "            J = J + ((theta[0] + theta[1] * X[1][i] - y[i])) ** 2\n",
    "        \n",
    "        return J*(1/(2*m))\n",
    "    \n",
    "    def gradient_descent(self,X,y,theta,alpha,num_iter):\n",
    "        m = len(y)\n",
    "        J_history = np.zeros(num_iter)\n",
    "        temp0 = 0\n",
    "        temp1 = 0\n",
    "        \n",
    "        for k in range(num_iter):\n",
    "        \n",
    "            for i in range(m):\n",
    "                temp0 = temp0 - alpha * (1/m * (theta[0] + theta[1] * X[1][i] - y[i]))\n",
    "                temp1 = temp1 - alpha * (1/m * (theta[0] + theta[1] * X[1][i] - y[i]))*X[1][i]\n",
    "                theta[0] = temp0\n",
    "                theta[1] = temp1\n",
    "                \n",
    "            J_history[k] = self.cost_function(X,y,theta)\n",
    "    \n",
    "        return theta,J_history"
   ]
  },
  {
   "cell_type": "code",
   "execution_count": 34,
   "metadata": {},
   "outputs": [],
   "source": [
    "regressaoLinear = LinearRegression()"
   ]
  },
  {
   "cell_type": "code",
   "execution_count": 35,
   "metadata": {},
   "outputs": [],
   "source": [
    "def desenhar_grafico_vendas_por_variavel(variavel, dataset):\n",
    "    data_plot = alt.Chart(dataset).mark_circle(size=60).encode(\n",
    "        x=  variavel + ':Q',\n",
    "        y='Sales:Q'\n",
    "    )\n",
    "    return data_plot"
   ]
  },
  {
   "cell_type": "code",
   "execution_count": 36,
   "metadata": {},
   "outputs": [
    {
     "data": {
      "application/vnd.vegalite.v2+json": {
       "$schema": "https://vega.github.io/schema/vega-lite/v2.6.0.json",
       "config": {
        "view": {
         "height": 300,
         "width": 400
        }
       },
       "data": {
        "name": "data-ba5f28dd6f6a78e17f4f67de88f1f416"
       },
       "datasets": {
        "data-ba5f28dd6f6a78e17f4f67de88f1f416": [
         {
          "Data": "2016-07-01T00:00:00",
          "Folhetos": 90,
          "Laranja": 67,
          "Limao": 97,
          "Local": "Park",
          "LucroLaranja": 16.75,
          "LucroLimao": 24.25,
          "Preco": 0.25,
          "Rank": 30.5,
          "Revenue": 41,
          "Sales": 164,
          "Temperatura": 70
         },
         {
          "Data": "2016-07-02T00:00:00",
          "Folhetos": 90,
          "Laranja": 67,
          "Limao": 98,
          "Local": "Park",
          "LucroLaranja": 16.75,
          "LucroLimao": 24.5,
          "Preco": 0.25,
          "Rank": 28,
          "Revenue": 41.25,
          "Sales": 165,
          "Temperatura": 72
         },
         {
          "Data": "2016-07-03T00:00:00",
          "Folhetos": 104,
          "Laranja": 77,
          "Limao": 110,
          "Local": "Park",
          "LucroLaranja": 19.25,
          "LucroLimao": 27.5,
          "Preco": 0.25,
          "Rank": 29,
          "Revenue": 46.75,
          "Sales": 187,
          "Temperatura": 71
         },
         {
          "Data": "2016-07-04T00:00:00",
          "Folhetos": 98,
          "Laranja": 99,
          "Limao": 134,
          "Local": "Beach",
          "LucroLaranja": 24.75,
          "LucroLimao": 33.5,
          "Preco": 0.25,
          "Rank": 25,
          "Revenue": 58.25,
          "Sales": 233,
          "Temperatura": 76
         },
         {
          "Data": "2016-07-05T00:00:00",
          "Folhetos": 135,
          "Laranja": 118,
          "Limao": 159,
          "Local": "Beach",
          "LucroLaranja": 29.5,
          "LucroLimao": 39.75,
          "Preco": 0.25,
          "Rank": 20,
          "Revenue": 69.25,
          "Sales": 277,
          "Temperatura": 78
         },
         {
          "Data": "2016-07-06T00:00:00",
          "Folhetos": 90,
          "Laranja": 69,
          "Limao": 103,
          "Local": "Beach",
          "LucroLaranja": 17.25,
          "LucroLimao": 25.75,
          "Preco": 0.25,
          "Rank": 8,
          "Revenue": 43,
          "Sales": 172,
          "Temperatura": 82
         },
         {
          "Data": "2016-07-07T00:00:00",
          "Folhetos": 135,
          "Laranja": 101,
          "Limao": 143,
          "Local": "Beach",
          "LucroLaranja": 25.25,
          "LucroLimao": 35.75,
          "Preco": 0.25,
          "Rank": 13.5,
          "Revenue": 61,
          "Sales": 244,
          "Temperatura": 81
         },
         {
          "Data": "2016-07-08T00:00:00",
          "Folhetos": 113,
          "Laranja": 86,
          "Limao": 123,
          "Local": "Beach",
          "LucroLaranja": 21.5,
          "LucroLimao": 30.75,
          "Preco": 0.25,
          "Rank": 8,
          "Revenue": 52.25,
          "Sales": 209,
          "Temperatura": 82
         },
         {
          "Data": "2016-07-09T00:00:00",
          "Folhetos": 126,
          "Laranja": 95,
          "Limao": 134,
          "Local": "Beach",
          "LucroLaranja": 23.75,
          "LucroLimao": 33.5,
          "Preco": 0.25,
          "Rank": 17,
          "Revenue": 57.25,
          "Sales": 229,
          "Temperatura": 80
         },
         {
          "Data": "2016-07-10T00:00:00",
          "Folhetos": 131,
          "Laranja": 98,
          "Limao": 140,
          "Local": "Beach",
          "LucroLaranja": 24.5,
          "LucroLimao": 35,
          "Preco": 0.25,
          "Rank": 8,
          "Revenue": 59.5,
          "Sales": 238,
          "Temperatura": 82
         },
         {
          "Data": "2016-07-11T00:00:00",
          "Folhetos": 135,
          "Laranja": 120,
          "Limao": 162,
          "Local": "Beach",
          "LucroLaranja": 30,
          "LucroLimao": 40.5,
          "Preco": 0.25,
          "Rank": 3.5,
          "Revenue": 70.5,
          "Sales": 282,
          "Temperatura": 83
         },
         {
          "Data": "2016-07-12T00:00:00",
          "Folhetos": 99,
          "Laranja": 95,
          "Limao": 130,
          "Local": "Beach",
          "LucroLaranja": 23.75,
          "LucroLimao": 32.5,
          "Preco": 0.25,
          "Rank": 1.5,
          "Revenue": 56.25,
          "Sales": 225,
          "Temperatura": 84
         },
         {
          "Data": "2016-07-13T00:00:00",
          "Folhetos": 99,
          "Laranja": 75,
          "Limao": 109,
          "Local": "Beach",
          "LucroLaranja": 18.75,
          "LucroLimao": 27.25,
          "Preco": 0.25,
          "Rank": 23,
          "Revenue": 46,
          "Sales": 184,
          "Temperatura": 77
         },
         {
          "Data": "2016-07-14T00:00:00",
          "Folhetos": 113,
          "Laranja": 85,
          "Limao": 122,
          "Local": "Beach",
          "LucroLaranja": 21.25,
          "LucroLimao": 30.5,
          "Preco": 0.25,
          "Rank": 20,
          "Revenue": 51.75,
          "Sales": 207,
          "Temperatura": 78
         },
         {
          "Data": "2016-07-15T00:00:00",
          "Folhetos": 108,
          "Laranja": 62,
          "Limao": 98,
          "Local": "Beach",
          "LucroLaranja": 31,
          "LucroLimao": 49,
          "Preco": 0.5,
          "Rank": 26,
          "Revenue": 80,
          "Sales": 160,
          "Temperatura": 75
         },
         {
          "Data": "2016-07-16T00:00:00",
          "Folhetos": 90,
          "Laranja": 50,
          "Limao": 81,
          "Local": "Beach",
          "LucroLaranja": 25,
          "LucroLimao": 40.5,
          "Preco": 0.5,
          "Rank": 27,
          "Revenue": 65.5,
          "Sales": 131,
          "Temperatura": 74
         },
         {
          "Data": "2016-07-17T00:00:00",
          "Folhetos": 126,
          "Laranja": 76,
          "Limao": 115,
          "Local": "Beach",
          "LucroLaranja": 38,
          "LucroLimao": 57.5,
          "Preco": 0.5,
          "Rank": 23,
          "Revenue": 95.5,
          "Sales": 191,
          "Temperatura": 77
         },
         {
          "Data": "2016-07-18T00:00:00",
          "Folhetos": 122,
          "Laranja": 92,
          "Limao": 131,
          "Local": "Park",
          "LucroLaranja": 46,
          "LucroLimao": 65.5,
          "Preco": 0.5,
          "Rank": 13.5,
          "Revenue": 111.5,
          "Sales": 223,
          "Temperatura": 81
         },
         {
          "Data": "2016-07-19T00:00:00",
          "Folhetos": 113,
          "Laranja": 85,
          "Limao": 122,
          "Local": "Park",
          "LucroLaranja": 42.5,
          "LucroLimao": 61,
          "Preco": 0.5,
          "Rank": 20,
          "Revenue": 103.5,
          "Sales": 207,
          "Temperatura": 78
         },
         {
          "Data": "2016-07-20T00:00:00",
          "Folhetos": 109.16666666666667,
          "Laranja": 42,
          "Limao": 71,
          "Local": "Park",
          "LucroLaranja": 21,
          "LucroLimao": 35.5,
          "Preco": 0.5,
          "Rank": 30.5,
          "Revenue": 56.5,
          "Sales": 113,
          "Temperatura": 70
         },
         {
          "Data": "2016-07-21T00:00:00",
          "Folhetos": 90,
          "Laranja": 50,
          "Limao": 83,
          "Local": "Park",
          "LucroLaranja": 25,
          "LucroLimao": 41.5,
          "Preco": 0.5,
          "Rank": 23,
          "Revenue": 66.5,
          "Sales": 133,
          "Temperatura": 77
         },
         {
          "Data": "2016-07-22T00:00:00",
          "Folhetos": 108,
          "Laranja": 75,
          "Limao": 112,
          "Local": "Park",
          "LucroLaranja": 37.5,
          "LucroLimao": 56,
          "Preco": 0.5,
          "Rank": 17,
          "Revenue": 93.5,
          "Sales": 187,
          "Temperatura": 80
         },
         {
          "Data": "2016-07-23T00:00:00",
          "Folhetos": 117,
          "Laranja": 82,
          "Limao": 120,
          "Local": "Park",
          "LucroLaranja": 41,
          "LucroLimao": 60,
          "Preco": 0.5,
          "Rank": 13.5,
          "Revenue": 101,
          "Sales": 202,
          "Temperatura": 81
         },
         {
          "Data": "2016-07-24T00:00:00",
          "Folhetos": 117,
          "Laranja": 82,
          "Limao": 121,
          "Local": "Park",
          "LucroLaranja": 41,
          "LucroLimao": 60.5,
          "Preco": 0.5,
          "Rank": 8,
          "Revenue": 101.5,
          "Sales": 203,
          "Temperatura": 82
         },
         {
          "Data": "2016-07-25T00:00:00",
          "Folhetos": 135,
          "Laranja": 113,
          "Limao": 156,
          "Local": "Park",
          "LucroLaranja": 56.5,
          "LucroLimao": 78,
          "Preco": 0.5,
          "Rank": 1.5,
          "Revenue": 134.5,
          "Sales": 269,
          "Temperatura": 84
         },
         {
          "Data": "2016-07-26T00:00:00",
          "Folhetos": 158,
          "Laranja": 129,
          "Limao": 176,
          "Local": "Park",
          "LucroLaranja": 45.15,
          "LucroLimao": 61.599999999999994,
          "Preco": 0.35,
          "Rank": 3.5,
          "Revenue": 106.75,
          "Sales": 305,
          "Temperatura": 83
         },
         {
          "Data": "2016-07-27T00:00:00",
          "Folhetos": 99,
          "Laranja": 68,
          "Limao": 104,
          "Local": "Park",
          "LucroLaranja": 23.799999999999997,
          "LucroLimao": 36.4,
          "Preco": 0.35,
          "Rank": 17,
          "Revenue": 60.199999999999996,
          "Sales": 172,
          "Temperatura": 80
         },
         {
          "Data": "2016-07-28T00:00:00",
          "Folhetos": 90,
          "Laranja": 63,
          "Limao": 96,
          "Local": "Park",
          "LucroLaranja": 22.049999999999997,
          "LucroLimao": 33.599999999999994,
          "Preco": 0.35,
          "Rank": 8,
          "Revenue": 55.65,
          "Sales": 159,
          "Temperatura": 82
         },
         {
          "Data": "2016-07-29T00:00:00",
          "Folhetos": 95,
          "Laranja": 66,
          "Limao": 100,
          "Local": "Park",
          "LucroLaranja": 23.099999999999998,
          "LucroLimao": 35,
          "Preco": 0.35,
          "Rank": 13.5,
          "Revenue": 58.099999999999994,
          "Sales": 166,
          "Temperatura": 81
         },
         {
          "Data": "2016-07-30T00:00:00",
          "Folhetos": 81,
          "Laranja": 57,
          "Limao": 88,
          "Local": "Beach",
          "LucroLaranja": 19.95,
          "LucroLimao": 30.799999999999997,
          "Preco": 0.35,
          "Rank": 8,
          "Revenue": 50.75,
          "Sales": 145,
          "Temperatura": 82
         },
         {
          "Data": "2016-07-31T00:00:00",
          "Folhetos": 68,
          "Laranja": 47,
          "Limao": 76,
          "Local": "Beach",
          "LucroLaranja": 16.45,
          "LucroLimao": 26.599999999999998,
          "Preco": 0.35,
          "Rank": 8,
          "Revenue": 43.05,
          "Sales": 123,
          "Temperatura": 82
         }
        ]
       },
       "encoding": {
        "x": {
         "field": "Temperatura",
         "type": "quantitative"
        },
        "y": {
         "field": "Sales",
         "type": "quantitative"
        }
       },
       "mark": {
        "size": 60,
        "type": "circle"
       }
      },
      "image/png": "[encoded data removed]",
      "text/plain": [
       "<VegaLite 2 object>\n",
       "\n",
       "If you see this message, it means the renderer has not been properly enabled\n",
       "for the frontend that you are using. For more information, see\n",
       "https://altair-viz.github.io/user_guide/troubleshooting.html\n"
      ]
     },
     "execution_count": 36,
     "metadata": {},
     "output_type": "execute_result"
    }
   ],
   "source": [
    "data_plot = desenhar_grafico_vendas_por_variavel('Temperatura', limonadas)\n",
    "data_plot"
   ]
  },
  {
   "cell_type": "markdown",
   "metadata": {},
   "source": [
    "A maior concentração de vendas ocorre quando a temperatura está perto dos 80 Graus Fahrenheit (F), valor equivalente a 27 graus Celsius."
   ]
  },
  {
   "cell_type": "code",
   "execution_count": 231,
   "metadata": {},
   "outputs": [],
   "source": [
    "def predizer_vendas_por_variavel(variavel, dataset):\n",
    "    regressaoLinear = LinearRegression()\n",
    "    iterations = 1500\n",
    "    alpha = 0.0005\n",
    "    \n",
    "    train=dataset.sample(frac=0.7,random_state=200)\n",
    "    test=dataset.drop(train.index)\n",
    "    \n",
    "    x_train = pd.DataFrame({'Auxiliar': np.ones(len(train[variavel])), variavel: train[variavel]})\n",
    "    y_train = train['Sales']\n",
    "    \n",
    "    x_test = pd.DataFrame({'Auxiliar': np.ones(len(test[variavel])), variavel: test[variavel]})\n",
    "    y_test = test['Sales']\n",
    "    \n",
    "    x_train.columns = range(x_train.shape[1]) \n",
    "    \n",
    "    x_train = x_train.reset_index(drop=True)\n",
    "    y_train = y_train.reset_index(drop=True)      \n",
    "    \n",
    "    theta = np.zeros(len(x_train.columns))\n",
    "    \n",
    "    theta_lr, custo_h = regressaoLinear.gradient_descent(x_train, y_train, theta, alpha, iterations)\n",
    "    \n",
    "    Yfit = np.matmul(x_test,theta_lr)\n",
    "    fit_plot = pd.DataFrame({'X':x_test[variavel],'Y':Yfit})\n",
    "    \n",
    "    polynomial_fit = alt.Chart(fit_plot).mark_line(color='red').encode(\n",
    "        x=alt.X('X',axis=alt.Axis(title=variavel)),\n",
    "        y=alt.Y('Y',axis=alt.Axis(title='Vendas'))\n",
    "    )\n",
    "    \n",
    "    data_plot = desenhar_grafico_vendas_por_variavel(variavel, test)   \n",
    "    \n",
    "    return data_plot + polynomial_fit, mean_squared_error(y_test, Yfit)"
   ]
  },
  {
   "cell_type": "code",
   "execution_count": 232,
   "metadata": {},
   "outputs": [
    {
     "name": "stdout",
     "output_type": "stream",
     "text": [
      "Erro médio 1999.2598555390796\n"
     ]
    },
    {
     "data": {
      "application/vnd.vegalite.v2+json": {
       "$schema": "https://vega.github.io/schema/vega-lite/v2.6.0.json",
       "config": {
        "view": {
         "height": 300,
         "width": 400
        }
       },
       "datasets": {
        "data-73bf86b3d4b2b4c00bf684b4a5490a86": [
         {
          "X": 78,
          "Y": 194.37414738405977
         },
         {
          "X": 82,
          "Y": 204.3563573224641
         },
         {
          "X": 83,
          "Y": 206.8519098070652
         },
         {
          "X": 77,
          "Y": 191.87859489945868
         },
         {
          "X": 75,
          "Y": 186.8874899302565
         },
         {
          "X": 74,
          "Y": 184.3919374456554
         },
         {
          "X": 77,
          "Y": 191.87859489945868
         },
         {
          "X": 82,
          "Y": 204.3563573224641
         },
         {
          "X": 80,
          "Y": 199.36525235326192
         }
        ],
        "data-b88aea615de39d9a56281bb464f9f751": [
         {
          "Data": "2016-07-05T00:00:00",
          "Folhetos": 135,
          "Laranja": 118,
          "Limao": 159,
          "Local": "Beach",
          "LucroLaranja": 29.5,
          "LucroLimao": 39.75,
          "Preco": 0.25,
          "Rank": 20,
          "Revenue": 69.25,
          "Sales": 277,
          "Temperatura": 78
         },
         {
          "Data": "2016-07-10T00:00:00",
          "Folhetos": 131,
          "Laranja": 98,
          "Limao": 140,
          "Local": "Beach",
          "LucroLaranja": 24.5,
          "LucroLimao": 35,
          "Preco": 0.25,
          "Rank": 8,
          "Revenue": 59.5,
          "Sales": 238,
          "Temperatura": 82
         },
         {
          "Data": "2016-07-11T00:00:00",
          "Folhetos": 135,
          "Laranja": 120,
          "Limao": 162,
          "Local": "Beach",
          "LucroLaranja": 30,
          "LucroLimao": 40.5,
          "Preco": 0.25,
          "Rank": 3.5,
          "Revenue": 70.5,
          "Sales": 282,
          "Temperatura": 83
         },
         {
          "Data": "2016-07-13T00:00:00",
          "Folhetos": 99,
          "Laranja": 75,
          "Limao": 109,
          "Local": "Beach",
          "LucroLaranja": 18.75,
          "LucroLimao": 27.25,
          "Preco": 0.25,
          "Rank": 23,
          "Revenue": 46,
          "Sales": 184,
          "Temperatura": 77
         },
         {
          "Data": "2016-07-15T00:00:00",
          "Folhetos": 108,
          "Laranja": 62,
          "Limao": 98,
          "Local": "Beach",
          "LucroLaranja": 31,
          "LucroLimao": 49,
          "Preco": 0.5,
          "Rank": 26,
          "Revenue": 80,
          "Sales": 160,
          "Temperatura": 75
         },
         {
          "Data": "2016-07-16T00:00:00",
          "Folhetos": 90,
          "Laranja": 50,
          "Limao": 81,
          "Local": "Beach",
          "LucroLaranja": 25,
          "LucroLimao": 40.5,
          "Preco": 0.5,
          "Rank": 27,
          "Revenue": 65.5,
          "Sales": 131,
          "Temperatura": 74
         },
         {
          "Data": "2016-07-17T00:00:00",
          "Folhetos": 126,
          "Laranja": 76,
          "Limao": 115,
          "Local": "Beach",
          "LucroLaranja": 38,
          "LucroLimao": 57.5,
          "Preco": 0.5,
          "Rank": 23,
          "Revenue": 95.5,
          "Sales": 191,
          "Temperatura": 77
         },
         {
          "Data": "2016-07-24T00:00:00",
          "Folhetos": 117,
          "Laranja": 82,
          "Limao": 121,
          "Local": "Park",
          "LucroLaranja": 41,
          "LucroLimao": 60.5,
          "Preco": 0.5,
          "Rank": 8,
          "Revenue": 101.5,
          "Sales": 203,
          "Temperatura": 82
         },
         {
          "Data": "2016-07-27T00:00:00",
          "Folhetos": 99,
          "Laranja": 68,
          "Limao": 104,
          "Local": "Park",
          "LucroLaranja": 23.799999999999997,
          "LucroLimao": 36.4,
          "Preco": 0.35,
          "Rank": 17,
          "Revenue": 60.199999999999996,
          "Sales": 172,
          "Temperatura": 80
         }
        ]
       },
       "layer": [
        {
         "data": {
          "name": "data-b88aea615de39d9a56281bb464f9f751"
         },
         "encoding": {
          "x": {
           "field": "Temperatura",
           "type": "quantitative"
          },
          "y": {
           "field": "Sales",
           "type": "quantitative"
          }
         },
         "mark": {
          "size": 60,
          "type": "circle"
         }
        },
        {
         "data": {
          "name": "data-73bf86b3d4b2b4c00bf684b4a5490a86"
         },
         "encoding": {
          "x": {
           "axis": {
            "title": "Temperatura"
           },
           "field": "X",
           "type": "quantitative"
          },
          "y": {
           "axis": {
            "title": "Vendas"
           },
           "field": "Y",
           "type": "quantitative"
          }
         },
         "mark": {
          "color": "red",
          "type": "line"
         }
        }
       ]
      },
      "image/png": "[encoded data removed]",
      "text/plain": [
       "<VegaLite 2 object>\n",
       "\n",
       "If you see this message, it means the renderer has not been properly enabled\n",
       "for the frontend that you are using. For more information, see\n",
       "https://altair-viz.github.io/user_guide/troubleshooting.html\n"
      ]
     },
     "execution_count": 232,
     "metadata": {},
     "output_type": "execute_result"
    }
   ],
   "source": [
    "chart, erro = predizer_vendas_por_variavel('Temperatura', limonadas)\n",
    "print('Erro médio', erro)\n",
    "chart"
   ]
  },
  {
   "cell_type": "markdown",
   "metadata": {},
   "source": [
    "Embora exista uma linha no centro dos pontos, utilizar apenas a temperatura para predizer as vendas não será muito eficiente, visto que temos diversos dados dispersos além da linha traçada"
   ]
  },
  {
   "cell_type": "markdown",
   "metadata": {},
   "source": [
    "#### 14) usando regressão linear, prediga vendas a partir de: Leaflets"
   ]
  },
  {
   "cell_type": "code",
   "execution_count": 233,
   "metadata": {},
   "outputs": [
    {
     "name": "stdout",
     "output_type": "stream",
     "text": [
      "Erro médio 984.9850646833163\n"
     ]
    },
    {
     "data": {
      "application/vnd.vegalite.v2+json": {
       "$schema": "https://vega.github.io/schema/vega-lite/v2.6.0.json",
       "config": {
        "view": {
         "height": 300,
         "width": 400
        }
       },
       "datasets": {
        "data-b88aea615de39d9a56281bb464f9f751": [
         {
          "Data": "2016-07-05T00:00:00",
          "Folhetos": 135,
          "Laranja": 118,
          "Limao": 159,
          "Local": "Beach",
          "LucroLaranja": 29.5,
          "LucroLimao": 39.75,
          "Preco": 0.25,
          "Rank": 20,
          "Revenue": 69.25,
          "Sales": 277,
          "Temperatura": 78
         },
         {
          "Data": "2016-07-10T00:00:00",
          "Folhetos": 131,
          "Laranja": 98,
          "Limao": 140,
          "Local": "Beach",
          "LucroLaranja": 24.5,
          "LucroLimao": 35,
          "Preco": 0.25,
          "Rank": 8,
          "Revenue": 59.5,
          "Sales": 238,
          "Temperatura": 82
         },
         {
          "Data": "2016-07-11T00:00:00",
          "Folhetos": 135,
          "Laranja": 120,
          "Limao": 162,
          "Local": "Beach",
          "LucroLaranja": 30,
          "LucroLimao": 40.5,
          "Preco": 0.25,
          "Rank": 3.5,
          "Revenue": 70.5,
          "Sales": 282,
          "Temperatura": 83
         },
         {
          "Data": "2016-07-13T00:00:00",
          "Folhetos": 99,
          "Laranja": 75,
          "Limao": 109,
          "Local": "Beach",
          "LucroLaranja": 18.75,
          "LucroLimao": 27.25,
          "Preco": 0.25,
          "Rank": 23,
          "Revenue": 46,
          "Sales": 184,
          "Temperatura": 77
         },
         {
          "Data": "2016-07-15T00:00:00",
          "Folhetos": 108,
          "Laranja": 62,
          "Limao": 98,
          "Local": "Beach",
          "LucroLaranja": 31,
          "LucroLimao": 49,
          "Preco": 0.5,
          "Rank": 26,
          "Revenue": 80,
          "Sales": 160,
          "Temperatura": 75
         },
         {
          "Data": "2016-07-16T00:00:00",
          "Folhetos": 90,
          "Laranja": 50,
          "Limao": 81,
          "Local": "Beach",
          "LucroLaranja": 25,
          "LucroLimao": 40.5,
          "Preco": 0.5,
          "Rank": 27,
          "Revenue": 65.5,
          "Sales": 131,
          "Temperatura": 74
         },
         {
          "Data": "2016-07-17T00:00:00",
          "Folhetos": 126,
          "Laranja": 76,
          "Limao": 115,
          "Local": "Beach",
          "LucroLaranja": 38,
          "LucroLimao": 57.5,
          "Preco": 0.5,
          "Rank": 23,
          "Revenue": 95.5,
          "Sales": 191,
          "Temperatura": 77
         },
         {
          "Data": "2016-07-24T00:00:00",
          "Folhetos": 117,
          "Laranja": 82,
          "Limao": 121,
          "Local": "Park",
          "LucroLaranja": 41,
          "LucroLimao": 60.5,
          "Preco": 0.5,
          "Rank": 8,
          "Revenue": 101.5,
          "Sales": 203,
          "Temperatura": 82
         },
         {
          "Data": "2016-07-27T00:00:00",
          "Folhetos": 99,
          "Laranja": 68,
          "Limao": 104,
          "Local": "Park",
          "LucroLaranja": 23.799999999999997,
          "LucroLimao": 36.4,
          "Preco": 0.35,
          "Rank": 17,
          "Revenue": 60.199999999999996,
          "Sales": 172,
          "Temperatura": 80
         }
        ],
        "data-cbdc19a9a4bedfd171794d65f09b7f4b": [
         {
          "X": 135,
          "Y": 260.9403145247944
         },
         {
          "X": 131,
          "Y": 253.2026419995672
         },
         {
          "X": 135,
          "Y": 260.9403145247944
         },
         {
          "X": 99,
          "Y": 191.30126179774908
         },
         {
          "X": 108,
          "Y": 208.71102497951043
         },
         {
          "X": 90,
          "Y": 173.89149861598776
         },
         {
          "X": 126,
          "Y": 243.5305513430331
         },
         {
          "X": 117,
          "Y": 226.12078816127178
         },
         {
          "X": 99,
          "Y": 191.30126179774908
         }
        ]
       },
       "layer": [
        {
         "data": {
          "name": "data-b88aea615de39d9a56281bb464f9f751"
         },
         "encoding": {
          "x": {
           "field": "Folhetos",
           "type": "quantitative"
          },
          "y": {
           "field": "Sales",
           "type": "quantitative"
          }
         },
         "mark": {
          "size": 60,
          "type": "circle"
         }
        },
        {
         "data": {
          "name": "data-cbdc19a9a4bedfd171794d65f09b7f4b"
         },
         "encoding": {
          "x": {
           "axis": {
            "title": "Folhetos"
           },
           "field": "X",
           "type": "quantitative"
          },
          "y": {
           "axis": {
            "title": "Vendas"
           },
           "field": "Y",
           "type": "quantitative"
          }
         },
         "mark": {
          "color": "red",
          "type": "line"
         }
        }
       ]
      },
      "image/png": "[encoded data removed]",
      "text/plain": [
       "<VegaLite 2 object>\n",
       "\n",
       "If you see this message, it means the renderer has not been properly enabled\n",
       "for the frontend that you are using. For more information, see\n",
       "https://altair-viz.github.io/user_guide/troubleshooting.html\n"
      ]
     },
     "execution_count": 233,
     "metadata": {},
     "output_type": "execute_result"
    }
   ],
   "source": [
    "chart, erro = predizer_vendas_por_variavel('Folhetos', limonadas)\n",
    "print('Erro médio', erro)\n",
    "chart"
   ]
  },
  {
   "cell_type": "markdown",
   "metadata": {},
   "source": [
    "Podemos observar que a correlação entre folhetos e vendas é positiva, quando a variável “folhetos” (X) aumenta, a variável “vendas” (Y) também aumenta."
   ]
  },
  {
   "cell_type": "markdown",
   "metadata": {},
   "source": [
    "#### 14) usando regressão linear, prediga vendas a partir de: Price"
   ]
  },
  {
   "cell_type": "code",
   "execution_count": 234,
   "metadata": {},
   "outputs": [
    {
     "name": "stdout",
     "output_type": "stream",
     "text": [
      "Erro médio 11359.51543916838\n"
     ]
    },
    {
     "data": {
      "application/vnd.vegalite.v2+json": {
       "$schema": "https://vega.github.io/schema/vega-lite/v2.6.0.json",
       "config": {
        "view": {
         "height": 300,
         "width": 400
        }
       },
       "datasets": {
        "data-579f800d55a6745ec1408ebb3a4fbc9a": [
         {
          "X": 0.25,
          "Y": 106.84943082032169
         },
         {
          "X": 0.25,
          "Y": 106.84943082032169
         },
         {
          "X": 0.25,
          "Y": 106.84943082032169
         },
         {
          "X": 0.25,
          "Y": 106.84943082032169
         },
         {
          "X": 0.5,
          "Y": 115.35619427864309
         },
         {
          "X": 0.5,
          "Y": 115.35619427864309
         },
         {
          "X": 0.5,
          "Y": 115.35619427864309
         },
         {
          "X": 0.5,
          "Y": 115.35619427864309
         },
         {
          "X": 0.35,
          "Y": 110.25213620365024
         }
        ],
        "data-b88aea615de39d9a56281bb464f9f751": [
         {
          "Data": "2016-07-05T00:00:00",
          "Folhetos": 135,
          "Laranja": 118,
          "Limao": 159,
          "Local": "Beach",
          "LucroLaranja": 29.5,
          "LucroLimao": 39.75,
          "Preco": 0.25,
          "Rank": 20,
          "Revenue": 69.25,
          "Sales": 277,
          "Temperatura": 78
         },
         {
          "Data": "2016-07-10T00:00:00",
          "Folhetos": 131,
          "Laranja": 98,
          "Limao": 140,
          "Local": "Beach",
          "LucroLaranja": 24.5,
          "LucroLimao": 35,
          "Preco": 0.25,
          "Rank": 8,
          "Revenue": 59.5,
          "Sales": 238,
          "Temperatura": 82
         },
         {
          "Data": "2016-07-11T00:00:00",
          "Folhetos": 135,
          "Laranja": 120,
          "Limao": 162,
          "Local": "Beach",
          "LucroLaranja": 30,
          "LucroLimao": 40.5,
          "Preco": 0.25,
          "Rank": 3.5,
          "Revenue": 70.5,
          "Sales": 282,
          "Temperatura": 83
         },
         {
          "Data": "2016-07-13T00:00:00",
          "Folhetos": 99,
          "Laranja": 75,
          "Limao": 109,
          "Local": "Beach",
          "LucroLaranja": 18.75,
          "LucroLimao": 27.25,
          "Preco": 0.25,
          "Rank": 23,
          "Revenue": 46,
          "Sales": 184,
          "Temperatura": 77
         },
         {
          "Data": "2016-07-15T00:00:00",
          "Folhetos": 108,
          "Laranja": 62,
          "Limao": 98,
          "Local": "Beach",
          "LucroLaranja": 31,
          "LucroLimao": 49,
          "Preco": 0.5,
          "Rank": 26,
          "Revenue": 80,
          "Sales": 160,
          "Temperatura": 75
         },
         {
          "Data": "2016-07-16T00:00:00",
          "Folhetos": 90,
          "Laranja": 50,
          "Limao": 81,
          "Local": "Beach",
          "LucroLaranja": 25,
          "LucroLimao": 40.5,
          "Preco": 0.5,
          "Rank": 27,
          "Revenue": 65.5,
          "Sales": 131,
          "Temperatura": 74
         },
         {
          "Data": "2016-07-17T00:00:00",
          "Folhetos": 126,
          "Laranja": 76,
          "Limao": 115,
          "Local": "Beach",
          "LucroLaranja": 38,
          "LucroLimao": 57.5,
          "Preco": 0.5,
          "Rank": 23,
          "Revenue": 95.5,
          "Sales": 191,
          "Temperatura": 77
         },
         {
          "Data": "2016-07-24T00:00:00",
          "Folhetos": 117,
          "Laranja": 82,
          "Limao": 121,
          "Local": "Park",
          "LucroLaranja": 41,
          "LucroLimao": 60.5,
          "Preco": 0.5,
          "Rank": 8,
          "Revenue": 101.5,
          "Sales": 203,
          "Temperatura": 82
         },
         {
          "Data": "2016-07-27T00:00:00",
          "Folhetos": 99,
          "Laranja": 68,
          "Limao": 104,
          "Local": "Park",
          "LucroLaranja": 23.799999999999997,
          "LucroLimao": 36.4,
          "Preco": 0.35,
          "Rank": 17,
          "Revenue": 60.199999999999996,
          "Sales": 172,
          "Temperatura": 80
         }
        ]
       },
       "layer": [
        {
         "data": {
          "name": "data-b88aea615de39d9a56281bb464f9f751"
         },
         "encoding": {
          "x": {
           "field": "Preco",
           "type": "quantitative"
          },
          "y": {
           "field": "Sales",
           "type": "quantitative"
          }
         },
         "mark": {
          "size": 60,
          "type": "circle"
         }
        },
        {
         "data": {
          "name": "data-579f800d55a6745ec1408ebb3a4fbc9a"
         },
         "encoding": {
          "x": {
           "axis": {
            "title": "Preco"
           },
           "field": "X",
           "type": "quantitative"
          },
          "y": {
           "axis": {
            "title": "Vendas"
           },
           "field": "Y",
           "type": "quantitative"
          }
         },
         "mark": {
          "color": "red",
          "type": "line"
         }
        }
       ]
      },
      "image/png": "[encoded data removed]",
      "text/plain": [
       "<VegaLite 2 object>\n",
       "\n",
       "If you see this message, it means the renderer has not been properly enabled\n",
       "for the frontend that you are using. For more information, see\n",
       "https://altair-viz.github.io/user_guide/troubleshooting.html\n"
      ]
     },
     "execution_count": 234,
     "metadata": {},
     "output_type": "execute_result"
    }
   ],
   "source": [
    "chart, erro = predizer_vendas_por_variavel('Preco', limonadas)\n",
    "print('Erro médio', erro)\n",
    "chart"
   ]
  },
  {
   "cell_type": "markdown",
   "metadata": {},
   "source": [
    "Aqui vemos que não faz sentido utilizar apenas o preço para prever as vendas"
   ]
  },
  {
   "cell_type": "markdown",
   "metadata": {},
   "source": [
    "#### 15) usando regressão linear, prediga vendas a partir das três variáveis juntas"
   ]
  },
  {
   "cell_type": "code",
   "execution_count": 69,
   "metadata": {},
   "outputs": [],
   "source": [
    "feature_col = ['Preco','Folhetos','Temperatura']\n",
    "meta_col = ['Sales']\n",
    "\n",
    "X = limonadas[feature_col].values\n",
    "y = limonadas[meta_col].values\n",
    "split_test_size = 0.30"
   ]
  },
  {
   "cell_type": "code",
   "execution_count": 70,
   "metadata": {},
   "outputs": [],
   "source": [
    "X_train, X_test, y_train, y_test = train_test_split(X, y, test_size=split_test_size, random_state=42)"
   ]
  },
  {
   "cell_type": "code",
   "execution_count": 71,
   "metadata": {},
   "outputs": [
    {
     "data": {
      "text/plain": [
       "LinearRegression(copy_X=True, fit_intercept=True, n_jobs=1, normalize=False)"
      ]
     },
     "execution_count": 71,
     "metadata": {},
     "output_type": "execute_result"
    }
   ],
   "source": [
    "lr_model = linear_model.LinearRegression()\n",
    "lr_model.fit(X_train, y_train.ravel()) # flatten arrays"
   ]
  },
  {
   "cell_type": "code",
   "execution_count": 72,
   "metadata": {},
   "outputs": [
    {
     "data": {
      "text/plain": [
       "array([171.17165832, 122.94604346, 196.43979809, 202.98378463,\n",
       "       250.05910738, 265.14553287, 154.26701917, 235.94403568,\n",
       "       190.80275099, 153.9657543 ])"
      ]
     },
     "execution_count": 72,
     "metadata": {},
     "output_type": "execute_result"
    }
   ],
   "source": [
    "y_pred = lr_model.predict(X_test)\n",
    "y_pred"
   ]
  },
  {
   "cell_type": "code",
   "execution_count": 73,
   "metadata": {},
   "outputs": [
    {
     "data": {
      "text/plain": [
       "array([[159],\n",
       "       [131],\n",
       "       [203],\n",
       "       [223],\n",
       "       [229],\n",
       "       [238],\n",
       "       [145],\n",
       "       [269],\n",
       "       [184],\n",
       "       [164]], dtype=int64)"
      ]
     },
     "execution_count": 73,
     "metadata": {},
     "output_type": "execute_result"
    }
   ],
   "source": [
    "y_test"
   ]
  },
  {
   "cell_type": "code",
   "execution_count": 74,
   "metadata": {},
   "outputs": [
    {
     "data": {
      "text/plain": [
       "316.2604496097703"
      ]
     },
     "execution_count": 74,
     "metadata": {},
     "output_type": "execute_result"
    }
   ],
   "source": [
    "mean_squared_error(y_test,y_pred)"
   ]
  },
  {
   "cell_type": "markdown",
   "metadata": {},
   "source": [
    "Escolhemos preço, folhetos e temperatura como variáveis para predizer as vendas, pois conforme as análises feitas anteriormente são as variáveis que representam melhor correlação.\n",
    "Dos dados fornecidos, separamos 30% para teste da regressão linear."
   ]
  },
  {
   "cell_type": "markdown",
   "metadata": {},
   "source": [
    "Embora o erro esteja alto, os valores são pouco próximos aos valores reais"
   ]
  },
  {
   "cell_type": "markdown",
   "metadata": {},
   "source": [
    "#### 16) Usando a Regressão Linear implementada em sala como modelo, generalize o algoritmo para que ele possa ser usado para regressão multivariada"
   ]
  },
  {
   "cell_type": "code",
   "execution_count": 46,
   "metadata": {},
   "outputs": [],
   "source": [
    "class LinearRegression2():\n",
    "    \n",
    "    def cost_function(self,X,y,theta):\n",
    "        m = len(y) #número de amostras\n",
    "        J = 0. # custo\n",
    "        #y = np.concatenate( y, axis=0 )\n",
    "        numero_colunas = len(X.columns)        \n",
    "        \n",
    "        for i in range(m):\n",
    "            calculo_thetas = 0.\n",
    "            for indice_coluna in range(numero_colunas):\n",
    "                calculo_thetas += (theta[indice_coluna] * X[indice_coluna][i])                \n",
    "                \n",
    "            J = J + (calculo_thetas - y[i]) ** 2\n",
    "        \n",
    "        #return J\n",
    "        return J*(1/(2*m))\n",
    "    \n",
    "    def gradient_descent(self,X,y,theta,alpha,num_iter):\n",
    "        m = len(y)\n",
    "        J_history = np.zeros(num_iter)\n",
    "        numero_colunas = len(X.columns)\n",
    "        \n",
    "        for k in range(num_iter):        \n",
    "            for i in range(m):\n",
    "                calculo_thetas = 0.\n",
    "                for indice_coluna in range(numero_colunas):\n",
    "                    calculo_thetas += (theta[indice_coluna] * X[indice_coluna][i])\n",
    "                \n",
    "                for indice_coluna in range(numero_colunas):\n",
    "                    #temp1 = temp1 - alpha * (1/m * (theta[0] + theta[1] * X[1][i] - y[i]))*X[1][i]\n",
    "                    theta[indice_coluna] = theta[indice_coluna] - alpha * (1/m * (calculo_thetas - y[i])) * X[indice_coluna][i]\n",
    "                \n",
    "            J_history[k] = self.cost_function(X,y,theta)\n",
    "    \n",
    "        return theta,J_history"
   ]
  },
  {
   "cell_type": "code",
   "execution_count": 75,
   "metadata": {},
   "outputs": [],
   "source": [
    "regressaoLinear2 = LinearRegression2()\n",
    "iterations = 10000\n",
    "alpha = 0.00005"
   ]
  },
  {
   "cell_type": "code",
   "execution_count": 76,
   "metadata": {},
   "outputs": [
    {
     "data": {
      "text/html": [
       "<div>\n",
       "<style scoped>\n",
       "    .dataframe tbody tr th:only-of-type {\n",
       "        vertical-align: middle;\n",
       "    }\n",
       "\n",
       "    .dataframe tbody tr th {\n",
       "        vertical-align: top;\n",
       "    }\n",
       "\n",
       "    .dataframe thead th {\n",
       "        text-align: right;\n",
       "    }\n",
       "</style>\n",
       "<table border=\"1\" class=\"dataframe\">\n",
       "  <thead>\n",
       "    <tr style=\"text-align: right;\">\n",
       "      <th></th>\n",
       "      <th>auxiliar</th>\n",
       "      <th>0</th>\n",
       "      <th>1</th>\n",
       "      <th>2</th>\n",
       "    </tr>\n",
       "  </thead>\n",
       "  <tbody>\n",
       "    <tr>\n",
       "      <th>0</th>\n",
       "      <td>1.0</td>\n",
       "      <td>0.25</td>\n",
       "      <td>135.0</td>\n",
       "      <td>78.0</td>\n",
       "    </tr>\n",
       "    <tr>\n",
       "      <th>1</th>\n",
       "      <td>1.0</td>\n",
       "      <td>0.50</td>\n",
       "      <td>126.0</td>\n",
       "      <td>77.0</td>\n",
       "    </tr>\n",
       "    <tr>\n",
       "      <th>2</th>\n",
       "      <td>1.0</td>\n",
       "      <td>0.25</td>\n",
       "      <td>90.0</td>\n",
       "      <td>82.0</td>\n",
       "    </tr>\n",
       "    <tr>\n",
       "      <th>3</th>\n",
       "      <td>1.0</td>\n",
       "      <td>0.25</td>\n",
       "      <td>113.0</td>\n",
       "      <td>78.0</td>\n",
       "    </tr>\n",
       "    <tr>\n",
       "      <th>4</th>\n",
       "      <td>1.0</td>\n",
       "      <td>0.25</td>\n",
       "      <td>99.0</td>\n",
       "      <td>84.0</td>\n",
       "    </tr>\n",
       "  </tbody>\n",
       "</table>\n",
       "</div>"
      ],
      "text/plain": [
       "   auxiliar     0      1     2\n",
       "0       1.0  0.25  135.0  78.0\n",
       "1       1.0  0.50  126.0  77.0\n",
       "2       1.0  0.25   90.0  82.0\n",
       "3       1.0  0.25  113.0  78.0\n",
       "4       1.0  0.25   99.0  84.0"
      ]
     },
     "execution_count": 76,
     "metadata": {},
     "output_type": "execute_result"
    }
   ],
   "source": [
    "dataFrame = pd.DataFrame(X_train)\n",
    "dataFrame.insert(0,'auxiliar',np.ones(len(dataFrame)))\n",
    "dataFrame.head()"
   ]
  },
  {
   "cell_type": "code",
   "execution_count": 77,
   "metadata": {},
   "outputs": [
    {
     "data": {
      "text/plain": [
       "array([-3.89539901e-01, -1.36274314e+00,  1.79657339e+00, -3.41343328e-04])"
      ]
     },
     "execution_count": 77,
     "metadata": {},
     "output_type": "execute_result"
    }
   ],
   "source": [
    "theta = np.zeros(len(dataFrame.columns))\n",
    "dataFrame.columns = range(dataFrame.shape[1])    \n",
    "vendas = y_train\n",
    "theta_lr, custo_h = regressaoLinear2.gradient_descent(dataFrame, vendas, theta, alpha, iterations)\n",
    "theta_lr"
   ]
  },
  {
   "cell_type": "code",
   "execution_count": 78,
   "metadata": {},
   "outputs": [
    {
     "data": {
      "text/plain": [
       "array([160.7971154 , 160.59543467, 209.10018559, 218.08339391,\n",
       "       225.61071462, 234.5928989 , 144.62795484, 241.43782401,\n",
       "       177.10425698, 160.93748583])"
      ]
     },
     "execution_count": 78,
     "metadata": {},
     "output_type": "execute_result"
    }
   ],
   "source": [
    "dataFrame = pd.DataFrame(X_test)\n",
    "dataFrame.insert(0,'auxiliar',np.ones(len(dataFrame)))\n",
    "Yfit = np.matmul(dataFrame,theta_lr)\n",
    "Yfit"
   ]
  },
  {
   "cell_type": "code",
   "execution_count": 79,
   "metadata": {},
   "outputs": [
    {
     "data": {
      "text/plain": [
       "array([[159],\n",
       "       [131],\n",
       "       [203],\n",
       "       [223],\n",
       "       [229],\n",
       "       [238],\n",
       "       [145],\n",
       "       [269],\n",
       "       [184],\n",
       "       [164]], dtype=int64)"
      ]
     },
     "execution_count": 79,
     "metadata": {},
     "output_type": "execute_result"
    }
   ],
   "source": [
    "y_test"
   ]
  },
  {
   "cell_type": "code",
   "execution_count": 80,
   "metadata": {},
   "outputs": [
    {
     "data": {
      "text/plain": [
       "178.03424777092215"
      ]
     },
     "execution_count": 80,
     "metadata": {},
     "output_type": "execute_result"
    }
   ],
   "source": [
    "mean_squared_error(y_test,Yfit)"
   ]
  },
  {
   "cell_type": "markdown",
   "metadata": {},
   "source": [
    "A partir da análise do erro quadrático, podemos comparar com o gerado pelo scikit learn e vemos que o nosso modelo parece se ajustar melhor a necessidade de previsão"
   ]
  },
  {
   "cell_type": "markdown",
   "metadata": {},
   "source": [
    "#### 17) aplique o algoritmo implementado no conjunto de dados consumo cerveja usando as mesmas features para treinamento. Compare os resultados que você obteve com os resultados obtidos através da Scikit Learning."
   ]
  },
  {
   "cell_type": "code",
   "execution_count": 82,
   "metadata": {},
   "outputs": [],
   "source": [
    "cerveja = pd.read_csv('./data/Consumo_cerveja.csv', sep=';')"
   ]
  },
  {
   "cell_type": "code",
   "execution_count": 83,
   "metadata": {},
   "outputs": [],
   "source": [
    "cerveja = cerveja.rename(columns={'Temperatura Media (C)':'meanTemp','Temperatura Minima (C)':'minTemp','Temperatura Maxima (C)':'maxTemp',\n",
    "                       'Precipitacao (mm)':'precip','Final de Semana':'weekend','Consumo de cerveja (litros)':'consumo'})"
   ]
  },
  {
   "cell_type": "code",
   "execution_count": 84,
   "metadata": {},
   "outputs": [
    {
     "data": {
      "text/html": [
       "<div>\n",
       "<style scoped>\n",
       "    .dataframe tbody tr th:only-of-type {\n",
       "        vertical-align: middle;\n",
       "    }\n",
       "\n",
       "    .dataframe tbody tr th {\n",
       "        vertical-align: top;\n",
       "    }\n",
       "\n",
       "    .dataframe thead th {\n",
       "        text-align: right;\n",
       "    }\n",
       "</style>\n",
       "<table border=\"1\" class=\"dataframe\">\n",
       "  <thead>\n",
       "    <tr style=\"text-align: right;\">\n",
       "      <th></th>\n",
       "      <th>Data</th>\n",
       "      <th>meanTemp</th>\n",
       "      <th>minTemp</th>\n",
       "      <th>maxTemp</th>\n",
       "      <th>precip</th>\n",
       "      <th>weekend</th>\n",
       "      <th>consumo</th>\n",
       "    </tr>\n",
       "  </thead>\n",
       "  <tbody>\n",
       "    <tr>\n",
       "      <th>0</th>\n",
       "      <td>01/01/2015</td>\n",
       "      <td>27.30</td>\n",
       "      <td>23.9</td>\n",
       "      <td>32.5</td>\n",
       "      <td>0.0</td>\n",
       "      <td>0</td>\n",
       "      <td>25.461</td>\n",
       "    </tr>\n",
       "    <tr>\n",
       "      <th>1</th>\n",
       "      <td>02/01/2015</td>\n",
       "      <td>27.02</td>\n",
       "      <td>24.5</td>\n",
       "      <td>33.5</td>\n",
       "      <td>0.0</td>\n",
       "      <td>0</td>\n",
       "      <td>28.972</td>\n",
       "    </tr>\n",
       "    <tr>\n",
       "      <th>2</th>\n",
       "      <td>03/01/2015</td>\n",
       "      <td>24.82</td>\n",
       "      <td>22.4</td>\n",
       "      <td>29.9</td>\n",
       "      <td>0.0</td>\n",
       "      <td>1</td>\n",
       "      <td>30.814</td>\n",
       "    </tr>\n",
       "    <tr>\n",
       "      <th>3</th>\n",
       "      <td>04/01/2015</td>\n",
       "      <td>23.98</td>\n",
       "      <td>21.5</td>\n",
       "      <td>28.6</td>\n",
       "      <td>1.2</td>\n",
       "      <td>1</td>\n",
       "      <td>29.799</td>\n",
       "    </tr>\n",
       "    <tr>\n",
       "      <th>4</th>\n",
       "      <td>05/01/2015</td>\n",
       "      <td>23.82</td>\n",
       "      <td>21.0</td>\n",
       "      <td>28.3</td>\n",
       "      <td>0.0</td>\n",
       "      <td>0</td>\n",
       "      <td>28.900</td>\n",
       "    </tr>\n",
       "  </tbody>\n",
       "</table>\n",
       "</div>"
      ],
      "text/plain": [
       "         Data  meanTemp  minTemp  maxTemp  precip  weekend  consumo\n",
       "0  01/01/2015     27.30     23.9     32.5     0.0        0   25.461\n",
       "1  02/01/2015     27.02     24.5     33.5     0.0        0   28.972\n",
       "2  03/01/2015     24.82     22.4     29.9     0.0        1   30.814\n",
       "3  04/01/2015     23.98     21.5     28.6     1.2        1   29.799\n",
       "4  05/01/2015     23.82     21.0     28.3     0.0        0   28.900"
      ]
     },
     "execution_count": 84,
     "metadata": {},
     "output_type": "execute_result"
    }
   ],
   "source": [
    "cerveja.head()"
   ]
  },
  {
   "cell_type": "code",
   "execution_count": 85,
   "metadata": {},
   "outputs": [
    {
     "data": {
      "text/plain": [
       "Data        0\n",
       "meanTemp    0\n",
       "minTemp     0\n",
       "maxTemp     0\n",
       "precip      0\n",
       "weekend     0\n",
       "consumo     0\n",
       "dtype: int64"
      ]
     },
     "execution_count": 85,
     "metadata": {},
     "output_type": "execute_result"
    }
   ],
   "source": [
    "cerveja.isna().sum()"
   ]
  },
  {
   "cell_type": "code",
   "execution_count": 86,
   "metadata": {},
   "outputs": [],
   "source": [
    "feature_col = ['maxTemp','precip','weekend']\n",
    "meta_col = ['consumo']\n",
    "\n",
    "X = cerveja[feature_col].values\n",
    "y = cerveja[meta_col].values\n",
    "split_test_size = 0.30\n",
    "X_train, X_test, y_train, y_test = train_test_split(X, y, test_size=split_test_size, random_state=42)"
   ]
  },
  {
   "cell_type": "code",
   "execution_count": 87,
   "metadata": {},
   "outputs": [
    {
     "data": {
      "text/plain": [
       "LinearRegression(copy_X=True, fit_intercept=True, n_jobs=1, normalize=False)"
      ]
     },
     "execution_count": 87,
     "metadata": {},
     "output_type": "execute_result"
    }
   ],
   "source": [
    "lr_model = linear_model.LinearRegression()\n",
    "lr_model.fit(X_train, y_train.ravel()) # flatten arrays"
   ]
  },
  {
   "cell_type": "code",
   "execution_count": 88,
   "metadata": {},
   "outputs": [
    {
     "data": {
      "text/plain": [
       "array([25.5541415 , 27.07130999, 28.11812711, 21.61574405, 27.32462467,\n",
       "       17.73421627, 22.48352654, 18.87889158, 18.051333  , 20.88146656,\n",
       "       32.15210511, 26.88919148, 25.24055058, 25.84854213, 20.61445656,\n",
       "       22.35002154, 28.09073647, 27.09284136, 24.68635901, 28.88653837,\n",
       "       34.5605008 , 22.01625904, 29.70779574, 19.26100071, 25.01489341,\n",
       "       24.81986401, 29.22030086, 29.95980645, 22.87120826, 24.21909152,\n",
       "       24.45055214, 29.88782585, 28.22424147, 32.55570399, 23.61831902,\n",
       "       27.28447838, 27.48996398, 23.62757067, 25.02012151, 31.62339083,\n",
       "       27.89047897, 32.29091582, 27.94139194, 24.54762592, 24.81614895,\n",
       "       31.75689583, 24.75311151, 24.79701447, 26.10838888, 29.23164091,\n",
       "       29.22030086, 31.77712322, 31.75689583, 33.9597283 , 20.34744656,\n",
       "       25.8211515 , 31.35638084, 30.75869223, 26.59357011, 24.31631853,\n",
       "       22.38493973, 27.98462211, 24.82775587, 23.41520851, 29.09202396,\n",
       "       29.6048987 , 25.1536265 , 19.75542797, 20.14718906, 23.95208152,\n",
       "       29.35380586, 29.86215931, 30.95586584, 24.15233902, 19.8138883 ,\n",
       "       17.1433266 , 22.20083025, 26.28841899, 30.64369052, 35.62854078,\n",
       "       24.34719898, 24.48610151, 25.71241499, 25.1536265 , 23.01754653,\n",
       "       24.05856018, 31.13218089, 22.47829844, 22.95079403, 25.754399  ,\n",
       "       26.00758024, 25.887904  , 23.28455653, 35.42828329, 18.86383647,\n",
       "       24.55285401, 23.08429903, 35.49503579, 20.63295985, 31.75689583,\n",
       "       27.61824088, 26.22166649, 27.86481243, 20.84110921, 21.93889511,\n",
       "       24.01883402, 24.08558652, 29.83377319, 22.28326904, 22.92957116])"
      ]
     },
     "execution_count": 88,
     "metadata": {},
     "output_type": "execute_result"
    }
   ],
   "source": [
    "y_pred = lr_model.predict(X_test)\n",
    "y_pred"
   ]
  },
  {
   "cell_type": "code",
   "execution_count": 89,
   "metadata": {},
   "outputs": [
    {
     "data": {
      "text/plain": [
       "5.4808534596126615"
      ]
     },
     "execution_count": 89,
     "metadata": {},
     "output_type": "execute_result"
    }
   ],
   "source": [
    "mean_squared_error(y_test,y_pred)"
   ]
  },
  {
   "cell_type": "code",
   "execution_count": 169,
   "metadata": {},
   "outputs": [
    {
     "data": {
      "text/html": [
       "<div>\n",
       "<style scoped>\n",
       "    .dataframe tbody tr th:only-of-type {\n",
       "        vertical-align: middle;\n",
       "    }\n",
       "\n",
       "    .dataframe tbody tr th {\n",
       "        vertical-align: top;\n",
       "    }\n",
       "\n",
       "    .dataframe thead th {\n",
       "        text-align: right;\n",
       "    }\n",
       "</style>\n",
       "<table border=\"1\" class=\"dataframe\">\n",
       "  <thead>\n",
       "    <tr style=\"text-align: right;\">\n",
       "      <th></th>\n",
       "      <th>auxiliar</th>\n",
       "      <th>0</th>\n",
       "      <th>1</th>\n",
       "      <th>2</th>\n",
       "    </tr>\n",
       "  </thead>\n",
       "  <tbody>\n",
       "    <tr>\n",
       "      <th>0</th>\n",
       "      <td>1.0</td>\n",
       "      <td>24.9</td>\n",
       "      <td>28.6</td>\n",
       "      <td>1.0</td>\n",
       "    </tr>\n",
       "    <tr>\n",
       "      <th>1</th>\n",
       "      <td>1.0</td>\n",
       "      <td>19.6</td>\n",
       "      <td>0.0</td>\n",
       "      <td>0.0</td>\n",
       "    </tr>\n",
       "    <tr>\n",
       "      <th>2</th>\n",
       "      <td>1.0</td>\n",
       "      <td>26.2</td>\n",
       "      <td>0.0</td>\n",
       "      <td>1.0</td>\n",
       "    </tr>\n",
       "    <tr>\n",
       "      <th>3</th>\n",
       "      <td>1.0</td>\n",
       "      <td>35.6</td>\n",
       "      <td>0.6</td>\n",
       "      <td>0.0</td>\n",
       "    </tr>\n",
       "    <tr>\n",
       "      <th>4</th>\n",
       "      <td>1.0</td>\n",
       "      <td>23.2</td>\n",
       "      <td>1.8</td>\n",
       "      <td>0.0</td>\n",
       "    </tr>\n",
       "  </tbody>\n",
       "</table>\n",
       "</div>"
      ],
      "text/plain": [
       "   auxiliar     0     1    2\n",
       "0       1.0  24.9  28.6  1.0\n",
       "1       1.0  19.6   0.0  0.0\n",
       "2       1.0  26.2   0.0  1.0\n",
       "3       1.0  35.6   0.6  0.0\n",
       "4       1.0  23.2   1.8  0.0"
      ]
     },
     "execution_count": 169,
     "metadata": {},
     "output_type": "execute_result"
    }
   ],
   "source": [
    "iterations = 20000\n",
    "alpha = 0.01\n",
    "dataFrame = pd.DataFrame(X_train)\n",
    "dataFrame.insert(0,'auxiliar',np.ones(len(dataFrame)))\n",
    "dataFrame.head()"
   ]
  },
  {
   "cell_type": "code",
   "execution_count": 170,
   "metadata": {},
   "outputs": [
    {
     "data": {
      "text/plain": [
       "array([ 6.27348396,  0.66581727, -0.0555987 ,  5.33960939])"
      ]
     },
     "execution_count": 170,
     "metadata": {},
     "output_type": "execute_result"
    }
   ],
   "source": [
    "theta = np.zeros(len(dataFrame.columns))\n",
    "dataFrame.columns = range(dataFrame.shape[1])    \n",
    "consumo = y_train\n",
    "theta_lr, custo_h = regressaoLinear2.gradient_descent(dataFrame, consumo, theta, alpha, iterations)\n",
    "theta_lr"
   ]
  },
  {
   "cell_type": "code",
   "execution_count": 171,
   "metadata": {},
   "outputs": [
    {
     "data": {
      "text/plain": [
       "array([25.3824396 , 26.89144313, 27.93451128, 21.45411771, 27.14678701,\n",
       "       17.5348649 , 22.31968016, 18.72426691, 17.89748683, 20.72171872,\n",
       "       31.98154193, 26.71407414, 25.0151156 , 25.67073257, 20.45539181,\n",
       "       22.18651671, 27.91254523, 26.86855764, 24.51687715, 28.72459718,\n",
       "       34.38404397, 21.85360807, 29.51109105, 19.02026184, 24.86285702,\n",
       "       24.65004061, 29.05750581, 29.77683358, 22.7023542 , 24.05080506,\n",
       "       24.22598668, 29.72332308, 28.04570868, 32.38089558, 23.45156952,\n",
       "       27.12663573, 27.31330968, 23.45115939, 24.84978579, 31.45444798,\n",
       "       27.71280005, 32.12026525, 27.78133326, 24.39678493, 24.59225453,\n",
       "       31.58761144, 24.58345888, 24.53515202, 25.90260657, 29.02223264,\n",
       "       29.05750581, 31.57512459, 31.58761144, 33.78480843, 20.1890649 ,\n",
       "       25.64876651, 31.18812108, 30.58874882, 26.1836914 , 24.13921614,\n",
       "       22.21973922, 27.80134783, 24.6381006 , 23.18820498, 28.91127113,\n",
       "       29.44031657, 24.98294924, 19.57205606, 19.98931972, 23.78447816,\n",
       "       29.19066927, 29.68969044, 30.78863071, 23.98422334, 19.52889894,\n",
       "       16.99314201, 21.97291757, 26.1148386 , 30.4547651 , 35.4493516 ,\n",
       "       24.01160482, 24.31713197, 25.41019368, 24.98294924, 22.85233398,\n",
       "       23.8724791 , 30.94307667, 22.33275139, 22.78575225, 25.58218478,\n",
       "       25.79696904, 25.71534824, 23.11866089, 35.24960642, 18.70175401,\n",
       "       24.3837137 , 22.91891571, 35.31618815, 20.45457154, 31.58761144,\n",
       "       27.45954437, 26.04825687, 27.67916741, 20.64237672, 21.77590661,\n",
       "       23.85105988, 23.91764161, 29.63299806, 22.11993498, 22.76351277])"
      ]
     },
     "execution_count": 171,
     "metadata": {},
     "output_type": "execute_result"
    }
   ],
   "source": [
    "dataFrame = pd.DataFrame(X_test)\n",
    "dataFrame.insert(0,'auxiliar',np.ones(len(dataFrame)))\n",
    "Yfit = np.matmul(dataFrame,theta_lr)\n",
    "Yfit"
   ]
  },
  {
   "cell_type": "code",
   "execution_count": 172,
   "metadata": {},
   "outputs": [
    {
     "data": {
      "text/plain": [
       "5.5017498986868265"
      ]
     },
     "execution_count": 172,
     "metadata": {},
     "output_type": "execute_result"
    }
   ],
   "source": [
    "mean_squared_error(y_test,Yfit)"
   ]
  },
  {
   "cell_type": "markdown",
   "metadata": {},
   "source": [
    "Podemos ver que com 40k iterações e um alfa de 0.01 chegamos bem próximo do scikit learn, paramos por aqui pois já estava demorando muito para calcular os resultados"
   ]
  }
 ],
 "metadata": {
  "kernelspec": {
   "display_name": "Python 3",
   "language": "python",
   "name": "python3"
  },
  "language_info": {
   "codemirror_mode": {
    "name": "ipython",
    "version": 3
   },
   "file_extension": ".py",
   "mimetype": "text/x-python",
   "name": "python",
   "nbconvert_exporter": "python",
   "pygments_lexer": "ipython3",
   "version": "3.7.0"
  }
 },
 "nbformat": 4,
 "nbformat_minor": 2
}
