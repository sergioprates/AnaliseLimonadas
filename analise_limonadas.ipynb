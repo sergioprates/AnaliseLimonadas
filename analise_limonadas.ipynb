{
 "cells": [
  {
   "cell_type": "markdown",
   "metadata": {},
   "source": [
    "# Trabalho de Python"
   ]
  },
  {
   "cell_type": "code",
   "execution_count": 509,
   "metadata": {},
   "outputs": [],
   "source": [
    "import pandas as pd\n",
    "import numpy as np\n",
    "import matplotlib.pyplot as plt\n",
    "import altair as alt\n",
    "from datetime import datetime"
   ]
  },
  {
   "cell_type": "markdown",
   "metadata": {},
   "source": [
    "#### 1) Leia o arquivo lemonades.csv usando pandas"
   ]
  },
  {
   "cell_type": "code",
   "execution_count": 510,
   "metadata": {},
   "outputs": [],
   "source": [
    "limonadas = pd.read_csv('./data/Lemonade2016(2).csv', sep=';')"
   ]
  },
  {
   "cell_type": "code",
   "execution_count": 511,
   "metadata": {},
   "outputs": [],
   "source": [
    "limonadas.columns = ['Data', 'Local', 'Limao', 'Laranja', 'Temperatura', 'Folhetos', 'Preco']"
   ]
  },
  {
   "cell_type": "code",
   "execution_count": 512,
   "metadata": {},
   "outputs": [],
   "source": [
    "# Convertendo para o formato de datetime\n",
    "limonadas['Data'] = pd.to_datetime(limonadas['Data'], format='%m/%d/%Y')"
   ]
  },
  {
   "cell_type": "code",
   "execution_count": 513,
   "metadata": {},
   "outputs": [
    {
     "data": {
      "text/html": [
       "<div>\n",
       "<style scoped>\n",
       "    .dataframe tbody tr th:only-of-type {\n",
       "        vertical-align: middle;\n",
       "    }\n",
       "\n",
       "    .dataframe tbody tr th {\n",
       "        vertical-align: top;\n",
       "    }\n",
       "\n",
       "    .dataframe thead th {\n",
       "        text-align: right;\n",
       "    }\n",
       "</style>\n",
       "<table border=\"1\" class=\"dataframe\">\n",
       "  <thead>\n",
       "    <tr style=\"text-align: right;\">\n",
       "      <th></th>\n",
       "      <th>Data</th>\n",
       "      <th>Local</th>\n",
       "      <th>Limao</th>\n",
       "      <th>Laranja</th>\n",
       "      <th>Temperatura</th>\n",
       "      <th>Folhetos</th>\n",
       "      <th>Preco</th>\n",
       "    </tr>\n",
       "  </thead>\n",
       "  <tbody>\n",
       "    <tr>\n",
       "      <th>0</th>\n",
       "      <td>2016-07-01</td>\n",
       "      <td>Park</td>\n",
       "      <td>97</td>\n",
       "      <td>67</td>\n",
       "      <td>70</td>\n",
       "      <td>90.0</td>\n",
       "      <td>0.25</td>\n",
       "    </tr>\n",
       "    <tr>\n",
       "      <th>1</th>\n",
       "      <td>2016-07-02</td>\n",
       "      <td>Park</td>\n",
       "      <td>98</td>\n",
       "      <td>67</td>\n",
       "      <td>72</td>\n",
       "      <td>90.0</td>\n",
       "      <td>0.25</td>\n",
       "    </tr>\n",
       "    <tr>\n",
       "      <th>2</th>\n",
       "      <td>2016-07-03</td>\n",
       "      <td>Park</td>\n",
       "      <td>110</td>\n",
       "      <td>77</td>\n",
       "      <td>71</td>\n",
       "      <td>104.0</td>\n",
       "      <td>0.25</td>\n",
       "    </tr>\n",
       "    <tr>\n",
       "      <th>3</th>\n",
       "      <td>2016-07-04</td>\n",
       "      <td>Beach</td>\n",
       "      <td>134</td>\n",
       "      <td>99</td>\n",
       "      <td>76</td>\n",
       "      <td>98.0</td>\n",
       "      <td>0.25</td>\n",
       "    </tr>\n",
       "    <tr>\n",
       "      <th>4</th>\n",
       "      <td>2016-07-05</td>\n",
       "      <td>Beach</td>\n",
       "      <td>159</td>\n",
       "      <td>118</td>\n",
       "      <td>78</td>\n",
       "      <td>135.0</td>\n",
       "      <td>0.25</td>\n",
       "    </tr>\n",
       "  </tbody>\n",
       "</table>\n",
       "</div>"
      ],
      "text/plain": [
       "        Data  Local  Limao  Laranja  Temperatura  Folhetos  Preco\n",
       "0 2016-07-01   Park     97       67           70      90.0   0.25\n",
       "1 2016-07-02   Park     98       67           72      90.0   0.25\n",
       "2 2016-07-03   Park    110       77           71     104.0   0.25\n",
       "3 2016-07-04  Beach    134       99           76      98.0   0.25\n",
       "4 2016-07-05  Beach    159      118           78     135.0   0.25"
      ]
     },
     "execution_count": 513,
     "metadata": {},
     "output_type": "execute_result"
    }
   ],
   "source": [
    "limonadas.head()"
   ]
  },
  {
   "cell_type": "markdown",
   "metadata": {},
   "source": [
    "#### 2) retorne as informações sobre as colunas e as principais estatísticas sobre o dataset"
   ]
  },
  {
   "cell_type": "code",
   "execution_count": 514,
   "metadata": {},
   "outputs": [
    {
     "data": {
      "text/plain": [
       "Data           datetime64[ns]\n",
       "Local                  object\n",
       "Limao                   int64\n",
       "Laranja                 int64\n",
       "Temperatura             int64\n",
       "Folhetos              float64\n",
       "Preco                 float64\n",
       "dtype: object"
      ]
     },
     "execution_count": 514,
     "metadata": {},
     "output_type": "execute_result"
    }
   ],
   "source": [
    "limonadas.dtypes"
   ]
  },
  {
   "cell_type": "code",
   "execution_count": 515,
   "metadata": {},
   "outputs": [
    {
     "name": "stdout",
     "output_type": "stream",
     "text": [
      "<class 'pandas.core.frame.DataFrame'>\n",
      "RangeIndex: 32 entries, 0 to 31\n",
      "Data columns (total 7 columns):\n",
      "Data           31 non-null datetime64[ns]\n",
      "Local          32 non-null object\n",
      "Limao          32 non-null int64\n",
      "Laranja        32 non-null int64\n",
      "Temperatura    32 non-null int64\n",
      "Folhetos       31 non-null float64\n",
      "Preco          32 non-null float64\n",
      "dtypes: datetime64[ns](1), float64(2), int64(3), object(1)\n",
      "memory usage: 1.8+ KB\n"
     ]
    }
   ],
   "source": [
    "limonadas.info()"
   ]
  },
  {
   "cell_type": "code",
   "execution_count": 516,
   "metadata": {},
   "outputs": [
    {
     "data": {
      "text/html": [
       "<div>\n",
       "<style scoped>\n",
       "    .dataframe tbody tr th:only-of-type {\n",
       "        vertical-align: middle;\n",
       "    }\n",
       "\n",
       "    .dataframe tbody tr th {\n",
       "        vertical-align: top;\n",
       "    }\n",
       "\n",
       "    .dataframe thead th {\n",
       "        text-align: right;\n",
       "    }\n",
       "</style>\n",
       "<table border=\"1\" class=\"dataframe\">\n",
       "  <thead>\n",
       "    <tr style=\"text-align: right;\">\n",
       "      <th></th>\n",
       "      <th>Limao</th>\n",
       "      <th>Laranja</th>\n",
       "      <th>Temperatura</th>\n",
       "      <th>Folhetos</th>\n",
       "      <th>Preco</th>\n",
       "    </tr>\n",
       "  </thead>\n",
       "  <tbody>\n",
       "    <tr>\n",
       "      <th>count</th>\n",
       "      <td>32.000000</td>\n",
       "      <td>32.000000</td>\n",
       "      <td>32.000000</td>\n",
       "      <td>31.000000</td>\n",
       "      <td>32.000000</td>\n",
       "    </tr>\n",
       "    <tr>\n",
       "      <th>mean</th>\n",
       "      <td>116.156250</td>\n",
       "      <td>80.000000</td>\n",
       "      <td>78.968750</td>\n",
       "      <td>108.548387</td>\n",
       "      <td>0.354687</td>\n",
       "    </tr>\n",
       "    <tr>\n",
       "      <th>std</th>\n",
       "      <td>25.823357</td>\n",
       "      <td>21.863211</td>\n",
       "      <td>4.067847</td>\n",
       "      <td>20.117718</td>\n",
       "      <td>0.113137</td>\n",
       "    </tr>\n",
       "    <tr>\n",
       "      <th>min</th>\n",
       "      <td>71.000000</td>\n",
       "      <td>42.000000</td>\n",
       "      <td>70.000000</td>\n",
       "      <td>68.000000</td>\n",
       "      <td>0.250000</td>\n",
       "    </tr>\n",
       "    <tr>\n",
       "      <th>25%</th>\n",
       "      <td>98.000000</td>\n",
       "      <td>66.750000</td>\n",
       "      <td>77.000000</td>\n",
       "      <td>90.000000</td>\n",
       "      <td>0.250000</td>\n",
       "    </tr>\n",
       "    <tr>\n",
       "      <th>50%</th>\n",
       "      <td>113.500000</td>\n",
       "      <td>76.500000</td>\n",
       "      <td>80.500000</td>\n",
       "      <td>108.000000</td>\n",
       "      <td>0.350000</td>\n",
       "    </tr>\n",
       "    <tr>\n",
       "      <th>75%</th>\n",
       "      <td>131.750000</td>\n",
       "      <td>95.000000</td>\n",
       "      <td>82.000000</td>\n",
       "      <td>124.000000</td>\n",
       "      <td>0.500000</td>\n",
       "    </tr>\n",
       "    <tr>\n",
       "      <th>max</th>\n",
       "      <td>176.000000</td>\n",
       "      <td>129.000000</td>\n",
       "      <td>84.000000</td>\n",
       "      <td>158.000000</td>\n",
       "      <td>0.500000</td>\n",
       "    </tr>\n",
       "  </tbody>\n",
       "</table>\n",
       "</div>"
      ],
      "text/plain": [
       "            Limao     Laranja  Temperatura    Folhetos      Preco\n",
       "count   32.000000   32.000000    32.000000   31.000000  32.000000\n",
       "mean   116.156250   80.000000    78.968750  108.548387   0.354687\n",
       "std     25.823357   21.863211     4.067847   20.117718   0.113137\n",
       "min     71.000000   42.000000    70.000000   68.000000   0.250000\n",
       "25%     98.000000   66.750000    77.000000   90.000000   0.250000\n",
       "50%    113.500000   76.500000    80.500000  108.000000   0.350000\n",
       "75%    131.750000   95.000000    82.000000  124.000000   0.500000\n",
       "max    176.000000  129.000000    84.000000  158.000000   0.500000"
      ]
     },
     "execution_count": 516,
     "metadata": {},
     "output_type": "execute_result"
    }
   ],
   "source": [
    "limonadas.describe()"
   ]
  },
  {
   "cell_type": "markdown",
   "metadata": {},
   "source": [
    "#### 3)Realize a limpeza do dataset: - verifique se existe valores nulos"
   ]
  },
  {
   "cell_type": "code",
   "execution_count": 517,
   "metadata": {},
   "outputs": [
    {
     "data": {
      "text/plain": [
       "Data           1\n",
       "Local          0\n",
       "Limao          0\n",
       "Laranja        0\n",
       "Temperatura    0\n",
       "Folhetos       1\n",
       "Preco          0\n",
       "dtype: int64"
      ]
     },
     "execution_count": 517,
     "metadata": {},
     "output_type": "execute_result"
    }
   ],
   "source": [
    "limonadas.isna().sum()"
   ]
  },
  {
   "cell_type": "markdown",
   "metadata": {},
   "source": [
    "##### - remova duplicatas"
   ]
  },
  {
   "cell_type": "code",
   "execution_count": 518,
   "metadata": {},
   "outputs": [
    {
     "name": "stdout",
     "output_type": "stream",
     "text": [
      "Valores duplicados: 1\n"
     ]
    },
    {
     "data": {
      "text/html": [
       "<div>\n",
       "<style scoped>\n",
       "    .dataframe tbody tr th:only-of-type {\n",
       "        vertical-align: middle;\n",
       "    }\n",
       "\n",
       "    .dataframe tbody tr th {\n",
       "        vertical-align: top;\n",
       "    }\n",
       "\n",
       "    .dataframe thead th {\n",
       "        text-align: right;\n",
       "    }\n",
       "</style>\n",
       "<table border=\"1\" class=\"dataframe\">\n",
       "  <thead>\n",
       "    <tr style=\"text-align: right;\">\n",
       "      <th></th>\n",
       "      <th>Data</th>\n",
       "      <th>Local</th>\n",
       "      <th>Limao</th>\n",
       "      <th>Laranja</th>\n",
       "      <th>Temperatura</th>\n",
       "      <th>Folhetos</th>\n",
       "      <th>Preco</th>\n",
       "    </tr>\n",
       "  </thead>\n",
       "  <tbody>\n",
       "    <tr>\n",
       "      <th>6</th>\n",
       "      <td>2016-07-06</td>\n",
       "      <td>Beach</td>\n",
       "      <td>103</td>\n",
       "      <td>69</td>\n",
       "      <td>82</td>\n",
       "      <td>90.0</td>\n",
       "      <td>0.25</td>\n",
       "    </tr>\n",
       "  </tbody>\n",
       "</table>\n",
       "</div>"
      ],
      "text/plain": [
       "        Data  Local  Limao  Laranja  Temperatura  Folhetos  Preco\n",
       "6 2016-07-06  Beach    103       69           82      90.0   0.25"
      ]
     },
     "execution_count": 518,
     "metadata": {},
     "output_type": "execute_result"
    }
   ],
   "source": [
    "print('Valores duplicados:', limonadas.duplicated().sum())\n",
    "limonadas[limonadas.duplicated()]"
   ]
  },
  {
   "cell_type": "code",
   "execution_count": 519,
   "metadata": {},
   "outputs": [
    {
     "data": {
      "text/html": [
       "<div>\n",
       "<style scoped>\n",
       "    .dataframe tbody tr th:only-of-type {\n",
       "        vertical-align: middle;\n",
       "    }\n",
       "\n",
       "    .dataframe tbody tr th {\n",
       "        vertical-align: top;\n",
       "    }\n",
       "\n",
       "    .dataframe thead th {\n",
       "        text-align: right;\n",
       "    }\n",
       "</style>\n",
       "<table border=\"1\" class=\"dataframe\">\n",
       "  <thead>\n",
       "    <tr style=\"text-align: right;\">\n",
       "      <th></th>\n",
       "      <th>Data</th>\n",
       "      <th>Local</th>\n",
       "      <th>Limao</th>\n",
       "      <th>Laranja</th>\n",
       "      <th>Temperatura</th>\n",
       "      <th>Folhetos</th>\n",
       "      <th>Preco</th>\n",
       "    </tr>\n",
       "  </thead>\n",
       "  <tbody>\n",
       "  </tbody>\n",
       "</table>\n",
       "</div>"
      ],
      "text/plain": [
       "Empty DataFrame\n",
       "Columns: [Data, Local, Limao, Laranja, Temperatura, Folhetos, Preco]\n",
       "Index: []"
      ]
     },
     "execution_count": 519,
     "metadata": {},
     "output_type": "execute_result"
    }
   ],
   "source": [
    "limonadas = limonadas.drop_duplicates()\n",
    "limonadas[limonadas.duplicated()]"
   ]
  },
  {
   "cell_type": "markdown",
   "metadata": {},
   "source": [
    "##### - trate os elementos faltantes (interpolação e media)"
   ]
  },
  {
   "cell_type": "code",
   "execution_count": 520,
   "metadata": {},
   "outputs": [],
   "source": [
    "limonadas['Folhetos'] = limonadas['Folhetos'].fillna(limonadas['Folhetos'].mean())"
   ]
  },
  {
   "cell_type": "code",
   "execution_count": 521,
   "metadata": {},
   "outputs": [
    {
     "data": {
      "text/plain": [
       "Data           1\n",
       "Local          0\n",
       "Limao          0\n",
       "Laranja        0\n",
       "Temperatura    0\n",
       "Folhetos       0\n",
       "Preco          0\n",
       "dtype: int64"
      ]
     },
     "execution_count": 521,
     "metadata": {},
     "output_type": "execute_result"
    }
   ],
   "source": [
    "limonadas.isna().sum()"
   ]
  },
  {
   "cell_type": "code",
   "execution_count": 522,
   "metadata": {},
   "outputs": [
    {
     "data": {
      "text/html": [
       "<div>\n",
       "<style scoped>\n",
       "    .dataframe tbody tr th:only-of-type {\n",
       "        vertical-align: middle;\n",
       "    }\n",
       "\n",
       "    .dataframe tbody tr th {\n",
       "        vertical-align: top;\n",
       "    }\n",
       "\n",
       "    .dataframe thead th {\n",
       "        text-align: right;\n",
       "    }\n",
       "</style>\n",
       "<table border=\"1\" class=\"dataframe\">\n",
       "  <thead>\n",
       "    <tr style=\"text-align: right;\">\n",
       "      <th></th>\n",
       "      <th>Data</th>\n",
       "      <th>Local</th>\n",
       "      <th>Limao</th>\n",
       "      <th>Laranja</th>\n",
       "      <th>Temperatura</th>\n",
       "      <th>Folhetos</th>\n",
       "      <th>Preco</th>\n",
       "    </tr>\n",
       "  </thead>\n",
       "  <tbody>\n",
       "    <tr>\n",
       "      <th>8</th>\n",
       "      <td>NaT</td>\n",
       "      <td>Beach</td>\n",
       "      <td>123</td>\n",
       "      <td>86</td>\n",
       "      <td>82</td>\n",
       "      <td>113.0</td>\n",
       "      <td>0.25</td>\n",
       "    </tr>\n",
       "  </tbody>\n",
       "</table>\n",
       "</div>"
      ],
      "text/plain": [
       "  Data  Local  Limao  Laranja  Temperatura  Folhetos  Preco\n",
       "8  NaT  Beach    123       86           82     113.0   0.25"
      ]
     },
     "execution_count": 522,
     "metadata": {},
     "output_type": "execute_result"
    }
   ],
   "source": [
    "limonadas[limonadas['Data'].isna()]"
   ]
  },
  {
   "cell_type": "code",
   "execution_count": 523,
   "metadata": {},
   "outputs": [
    {
     "data": {
      "text/html": [
       "<div>\n",
       "<style scoped>\n",
       "    .dataframe tbody tr th:only-of-type {\n",
       "        vertical-align: middle;\n",
       "    }\n",
       "\n",
       "    .dataframe tbody tr th {\n",
       "        vertical-align: top;\n",
       "    }\n",
       "\n",
       "    .dataframe thead th {\n",
       "        text-align: right;\n",
       "    }\n",
       "</style>\n",
       "<table border=\"1\" class=\"dataframe\">\n",
       "  <thead>\n",
       "    <tr style=\"text-align: right;\">\n",
       "      <th></th>\n",
       "      <th>Data</th>\n",
       "      <th>Local</th>\n",
       "      <th>Limao</th>\n",
       "      <th>Laranja</th>\n",
       "      <th>Temperatura</th>\n",
       "      <th>Folhetos</th>\n",
       "      <th>Preco</th>\n",
       "    </tr>\n",
       "  </thead>\n",
       "  <tbody>\n",
       "    <tr>\n",
       "      <th>0</th>\n",
       "      <td>2016-07-01</td>\n",
       "      <td>Park</td>\n",
       "      <td>97</td>\n",
       "      <td>67</td>\n",
       "      <td>70</td>\n",
       "      <td>90.0</td>\n",
       "      <td>0.25</td>\n",
       "    </tr>\n",
       "    <tr>\n",
       "      <th>1</th>\n",
       "      <td>2016-07-02</td>\n",
       "      <td>Park</td>\n",
       "      <td>98</td>\n",
       "      <td>67</td>\n",
       "      <td>72</td>\n",
       "      <td>90.0</td>\n",
       "      <td>0.25</td>\n",
       "    </tr>\n",
       "    <tr>\n",
       "      <th>2</th>\n",
       "      <td>2016-07-03</td>\n",
       "      <td>Park</td>\n",
       "      <td>110</td>\n",
       "      <td>77</td>\n",
       "      <td>71</td>\n",
       "      <td>104.0</td>\n",
       "      <td>0.25</td>\n",
       "    </tr>\n",
       "    <tr>\n",
       "      <th>3</th>\n",
       "      <td>2016-07-04</td>\n",
       "      <td>Beach</td>\n",
       "      <td>134</td>\n",
       "      <td>99</td>\n",
       "      <td>76</td>\n",
       "      <td>98.0</td>\n",
       "      <td>0.25</td>\n",
       "    </tr>\n",
       "    <tr>\n",
       "      <th>4</th>\n",
       "      <td>2016-07-05</td>\n",
       "      <td>Beach</td>\n",
       "      <td>159</td>\n",
       "      <td>118</td>\n",
       "      <td>78</td>\n",
       "      <td>135.0</td>\n",
       "      <td>0.25</td>\n",
       "    </tr>\n",
       "    <tr>\n",
       "      <th>5</th>\n",
       "      <td>2016-07-06</td>\n",
       "      <td>Beach</td>\n",
       "      <td>103</td>\n",
       "      <td>69</td>\n",
       "      <td>82</td>\n",
       "      <td>90.0</td>\n",
       "      <td>0.25</td>\n",
       "    </tr>\n",
       "    <tr>\n",
       "      <th>7</th>\n",
       "      <td>2016-07-07</td>\n",
       "      <td>Beach</td>\n",
       "      <td>143</td>\n",
       "      <td>101</td>\n",
       "      <td>81</td>\n",
       "      <td>135.0</td>\n",
       "      <td>0.25</td>\n",
       "    </tr>\n",
       "    <tr>\n",
       "      <th>8</th>\n",
       "      <td>2016-07-08</td>\n",
       "      <td>Beach</td>\n",
       "      <td>123</td>\n",
       "      <td>86</td>\n",
       "      <td>82</td>\n",
       "      <td>113.0</td>\n",
       "      <td>0.25</td>\n",
       "    </tr>\n",
       "    <tr>\n",
       "      <th>9</th>\n",
       "      <td>2016-07-09</td>\n",
       "      <td>Beach</td>\n",
       "      <td>134</td>\n",
       "      <td>95</td>\n",
       "      <td>80</td>\n",
       "      <td>126.0</td>\n",
       "      <td>0.25</td>\n",
       "    </tr>\n",
       "    <tr>\n",
       "      <th>10</th>\n",
       "      <td>2016-07-10</td>\n",
       "      <td>Beach</td>\n",
       "      <td>140</td>\n",
       "      <td>98</td>\n",
       "      <td>82</td>\n",
       "      <td>131.0</td>\n",
       "      <td>0.25</td>\n",
       "    </tr>\n",
       "  </tbody>\n",
       "</table>\n",
       "</div>"
      ],
      "text/plain": [
       "         Data  Local  Limao  Laranja  Temperatura  Folhetos  Preco\n",
       "0  2016-07-01   Park     97       67           70      90.0   0.25\n",
       "1  2016-07-02   Park     98       67           72      90.0   0.25\n",
       "2  2016-07-03   Park    110       77           71     104.0   0.25\n",
       "3  2016-07-04  Beach    134       99           76      98.0   0.25\n",
       "4  2016-07-05  Beach    159      118           78     135.0   0.25\n",
       "5  2016-07-06  Beach    103       69           82      90.0   0.25\n",
       "7  2016-07-07  Beach    143      101           81     135.0   0.25\n",
       "8  2016-07-08  Beach    123       86           82     113.0   0.25\n",
       "9  2016-07-09  Beach    134       95           80     126.0   0.25\n",
       "10 2016-07-10  Beach    140       98           82     131.0   0.25"
      ]
     },
     "execution_count": 523,
     "metadata": {},
     "output_type": "execute_result"
    }
   ],
   "source": [
    "tmp = limonadas['Data'].apply(lambda t: (t-datetime(1970,1,1)).total_seconds())\n",
    "tmp.interpolate(inplace=True) \n",
    "limonadas['Data'] = pd.to_datetime(tmp, unit='s') \n",
    "limonadas['Data'] = limonadas['Data'].apply(lambda t: t.date())\n",
    "limonadas['Data'] = pd.to_datetime(limonadas['Data'], format='%Y-%m-%d')\n",
    "limonadas.head(10)"
   ]
  },
  {
   "cell_type": "markdown",
   "metadata": {},
   "source": [
    "#### 4) Adicione uma coluna chamada \"Sales\" que contém o total de vendas de limão e laranja "
   ]
  },
  {
   "cell_type": "code",
   "execution_count": 524,
   "metadata": {},
   "outputs": [
    {
     "data": {
      "text/html": [
       "<div>\n",
       "<style scoped>\n",
       "    .dataframe tbody tr th:only-of-type {\n",
       "        vertical-align: middle;\n",
       "    }\n",
       "\n",
       "    .dataframe tbody tr th {\n",
       "        vertical-align: top;\n",
       "    }\n",
       "\n",
       "    .dataframe thead th {\n",
       "        text-align: right;\n",
       "    }\n",
       "</style>\n",
       "<table border=\"1\" class=\"dataframe\">\n",
       "  <thead>\n",
       "    <tr style=\"text-align: right;\">\n",
       "      <th></th>\n",
       "      <th>Data</th>\n",
       "      <th>Local</th>\n",
       "      <th>Limao</th>\n",
       "      <th>Laranja</th>\n",
       "      <th>Temperatura</th>\n",
       "      <th>Folhetos</th>\n",
       "      <th>Preco</th>\n",
       "      <th>Sales</th>\n",
       "    </tr>\n",
       "  </thead>\n",
       "  <tbody>\n",
       "    <tr>\n",
       "      <th>0</th>\n",
       "      <td>2016-07-01</td>\n",
       "      <td>Park</td>\n",
       "      <td>97</td>\n",
       "      <td>67</td>\n",
       "      <td>70</td>\n",
       "      <td>90.0</td>\n",
       "      <td>0.25</td>\n",
       "      <td>164</td>\n",
       "    </tr>\n",
       "    <tr>\n",
       "      <th>1</th>\n",
       "      <td>2016-07-02</td>\n",
       "      <td>Park</td>\n",
       "      <td>98</td>\n",
       "      <td>67</td>\n",
       "      <td>72</td>\n",
       "      <td>90.0</td>\n",
       "      <td>0.25</td>\n",
       "      <td>165</td>\n",
       "    </tr>\n",
       "    <tr>\n",
       "      <th>2</th>\n",
       "      <td>2016-07-03</td>\n",
       "      <td>Park</td>\n",
       "      <td>110</td>\n",
       "      <td>77</td>\n",
       "      <td>71</td>\n",
       "      <td>104.0</td>\n",
       "      <td>0.25</td>\n",
       "      <td>187</td>\n",
       "    </tr>\n",
       "    <tr>\n",
       "      <th>3</th>\n",
       "      <td>2016-07-04</td>\n",
       "      <td>Beach</td>\n",
       "      <td>134</td>\n",
       "      <td>99</td>\n",
       "      <td>76</td>\n",
       "      <td>98.0</td>\n",
       "      <td>0.25</td>\n",
       "      <td>233</td>\n",
       "    </tr>\n",
       "    <tr>\n",
       "      <th>4</th>\n",
       "      <td>2016-07-05</td>\n",
       "      <td>Beach</td>\n",
       "      <td>159</td>\n",
       "      <td>118</td>\n",
       "      <td>78</td>\n",
       "      <td>135.0</td>\n",
       "      <td>0.25</td>\n",
       "      <td>277</td>\n",
       "    </tr>\n",
       "  </tbody>\n",
       "</table>\n",
       "</div>"
      ],
      "text/plain": [
       "        Data  Local  Limao  Laranja  Temperatura  Folhetos  Preco  Sales\n",
       "0 2016-07-01   Park     97       67           70      90.0   0.25    164\n",
       "1 2016-07-02   Park     98       67           72      90.0   0.25    165\n",
       "2 2016-07-03   Park    110       77           71     104.0   0.25    187\n",
       "3 2016-07-04  Beach    134       99           76      98.0   0.25    233\n",
       "4 2016-07-05  Beach    159      118           78     135.0   0.25    277"
      ]
     },
     "execution_count": 524,
     "metadata": {},
     "output_type": "execute_result"
    }
   ],
   "source": [
    "limonadas['Sales'] = limonadas['Laranja'] + limonadas['Limao']\n",
    "limonadas.head()"
   ]
  },
  {
   "cell_type": "markdown",
   "metadata": {},
   "source": [
    "#### 5) Adicione uma coluna chamada \"Revenue\" que calcula o lucro (venda*preço) "
   ]
  },
  {
   "cell_type": "code",
   "execution_count": 525,
   "metadata": {},
   "outputs": [
    {
     "data": {
      "text/html": [
       "<div>\n",
       "<style scoped>\n",
       "    .dataframe tbody tr th:only-of-type {\n",
       "        vertical-align: middle;\n",
       "    }\n",
       "\n",
       "    .dataframe tbody tr th {\n",
       "        vertical-align: top;\n",
       "    }\n",
       "\n",
       "    .dataframe thead th {\n",
       "        text-align: right;\n",
       "    }\n",
       "</style>\n",
       "<table border=\"1\" class=\"dataframe\">\n",
       "  <thead>\n",
       "    <tr style=\"text-align: right;\">\n",
       "      <th></th>\n",
       "      <th>Data</th>\n",
       "      <th>Local</th>\n",
       "      <th>Limao</th>\n",
       "      <th>Laranja</th>\n",
       "      <th>Temperatura</th>\n",
       "      <th>Folhetos</th>\n",
       "      <th>Preco</th>\n",
       "      <th>Sales</th>\n",
       "      <th>Revenue</th>\n",
       "    </tr>\n",
       "  </thead>\n",
       "  <tbody>\n",
       "    <tr>\n",
       "      <th>0</th>\n",
       "      <td>2016-07-01</td>\n",
       "      <td>Park</td>\n",
       "      <td>97</td>\n",
       "      <td>67</td>\n",
       "      <td>70</td>\n",
       "      <td>90.0</td>\n",
       "      <td>0.25</td>\n",
       "      <td>164</td>\n",
       "      <td>41.00</td>\n",
       "    </tr>\n",
       "    <tr>\n",
       "      <th>1</th>\n",
       "      <td>2016-07-02</td>\n",
       "      <td>Park</td>\n",
       "      <td>98</td>\n",
       "      <td>67</td>\n",
       "      <td>72</td>\n",
       "      <td>90.0</td>\n",
       "      <td>0.25</td>\n",
       "      <td>165</td>\n",
       "      <td>41.25</td>\n",
       "    </tr>\n",
       "    <tr>\n",
       "      <th>2</th>\n",
       "      <td>2016-07-03</td>\n",
       "      <td>Park</td>\n",
       "      <td>110</td>\n",
       "      <td>77</td>\n",
       "      <td>71</td>\n",
       "      <td>104.0</td>\n",
       "      <td>0.25</td>\n",
       "      <td>187</td>\n",
       "      <td>46.75</td>\n",
       "    </tr>\n",
       "    <tr>\n",
       "      <th>3</th>\n",
       "      <td>2016-07-04</td>\n",
       "      <td>Beach</td>\n",
       "      <td>134</td>\n",
       "      <td>99</td>\n",
       "      <td>76</td>\n",
       "      <td>98.0</td>\n",
       "      <td>0.25</td>\n",
       "      <td>233</td>\n",
       "      <td>58.25</td>\n",
       "    </tr>\n",
       "    <tr>\n",
       "      <th>4</th>\n",
       "      <td>2016-07-05</td>\n",
       "      <td>Beach</td>\n",
       "      <td>159</td>\n",
       "      <td>118</td>\n",
       "      <td>78</td>\n",
       "      <td>135.0</td>\n",
       "      <td>0.25</td>\n",
       "      <td>277</td>\n",
       "      <td>69.25</td>\n",
       "    </tr>\n",
       "  </tbody>\n",
       "</table>\n",
       "</div>"
      ],
      "text/plain": [
       "        Data  Local  Limao  Laranja  Temperatura  Folhetos  Preco  Sales  \\\n",
       "0 2016-07-01   Park     97       67           70      90.0   0.25    164   \n",
       "1 2016-07-02   Park     98       67           72      90.0   0.25    165   \n",
       "2 2016-07-03   Park    110       77           71     104.0   0.25    187   \n",
       "3 2016-07-04  Beach    134       99           76      98.0   0.25    233   \n",
       "4 2016-07-05  Beach    159      118           78     135.0   0.25    277   \n",
       "\n",
       "   Revenue  \n",
       "0    41.00  \n",
       "1    41.25  \n",
       "2    46.75  \n",
       "3    58.25  \n",
       "4    69.25  "
      ]
     },
     "execution_count": 525,
     "metadata": {},
     "output_type": "execute_result"
    }
   ],
   "source": [
    "limonadas['Revenue'] = limonadas['Sales'] * limonadas['Preco']\n",
    "limonadas.head()"
   ]
  },
  {
   "cell_type": "markdown",
   "metadata": {},
   "source": [
    "#### 6) retorne o lucro total "
   ]
  },
  {
   "cell_type": "code",
   "execution_count": 526,
   "metadata": {},
   "outputs": [
    {
     "data": {
      "text/plain": [
       "2138.0"
      ]
     },
     "execution_count": 526,
     "metadata": {},
     "output_type": "execute_result"
    }
   ],
   "source": [
    "limonadas['Revenue'].sum()"
   ]
  },
  {
   "cell_type": "markdown",
   "metadata": {},
   "source": [
    "#### 7) escreva uma função que receba dois parâmetros, dataset e temp(int). Se max for 1, ele retorna a máxima temperatura observada no conjunto de dados; se 0, retorna a média do período observado; se -1, retorna a temperatura mínima \n"
   ]
  },
  {
   "cell_type": "code",
   "execution_count": 527,
   "metadata": {},
   "outputs": [],
   "source": [
    "def obter_dados_temperatura(dataset, temp):\n",
    "    temperatura = dataset['Temperatura']\n",
    "    if temp == 1: return temperatura.max()\n",
    "    elif temp == 0: return temperatura.mean()\n",
    "    elif temp == -1: return temperatura.min()\n",
    "    else: return 0    "
   ]
  },
  {
   "cell_type": "code",
   "execution_count": 528,
   "metadata": {},
   "outputs": [
    {
     "name": "stdout",
     "output_type": "stream",
     "text": [
      "Para 1: 84\n",
      "Para 0: 78.87096774193549\n",
      "Para -1: 70\n"
     ]
    }
   ],
   "source": [
    "print('Para 1:', obter_dados_temperatura(limonadas, 1))\n",
    "print('Para 0:', obter_dados_temperatura(limonadas, 0))\n",
    "print('Para -1:', obter_dados_temperatura(limonadas, -1))"
   ]
  },
  {
   "cell_type": "markdown",
   "metadata": {},
   "source": [
    "#### 8) escreva uma função que receba dois parametros (dataset, localização) e retorne o dataset com o preço do limão e laranja ajustados em 15% se a localização for 'Park' ou ajustados em 10% se a localização for 'Beach' "
   ]
  },
  {
   "cell_type": "code",
   "execution_count": 529,
   "metadata": {},
   "outputs": [],
   "source": [
    "def obter_preco_ajustado(dataset, localizacao):\n",
    "    novoDataSet = dataset[dataset['Local'] == localizacao].copy()\n",
    "    if localizacao == 'Park':\n",
    "        novoDataSet['Preco'] = novoDataSet['Preco'] + (novoDataSet['Preco'] * .15)\n",
    "        return novoDataSet\n",
    "    elif localizacao == 'Beach':\n",
    "        novoDataSet['Preco'] = novoDataSet['Preco'] +  (novoDataSet['Preco'] * 0.1)\n",
    "        return novoDataSet\n",
    "    else: return novoDataSet"
   ]
  },
  {
   "cell_type": "code",
   "execution_count": 530,
   "metadata": {},
   "outputs": [
    {
     "data": {
      "text/html": [
       "<div>\n",
       "<style scoped>\n",
       "    .dataframe tbody tr th:only-of-type {\n",
       "        vertical-align: middle;\n",
       "    }\n",
       "\n",
       "    .dataframe tbody tr th {\n",
       "        vertical-align: top;\n",
       "    }\n",
       "\n",
       "    .dataframe thead th {\n",
       "        text-align: right;\n",
       "    }\n",
       "</style>\n",
       "<table border=\"1\" class=\"dataframe\">\n",
       "  <thead>\n",
       "    <tr style=\"text-align: right;\">\n",
       "      <th></th>\n",
       "      <th>Data</th>\n",
       "      <th>Local</th>\n",
       "      <th>Limao</th>\n",
       "      <th>Laranja</th>\n",
       "      <th>Temperatura</th>\n",
       "      <th>Folhetos</th>\n",
       "      <th>Preco</th>\n",
       "      <th>Sales</th>\n",
       "      <th>Revenue</th>\n",
       "    </tr>\n",
       "  </thead>\n",
       "  <tbody>\n",
       "    <tr>\n",
       "      <th>0</th>\n",
       "      <td>2016-07-01</td>\n",
       "      <td>Park</td>\n",
       "      <td>97</td>\n",
       "      <td>67</td>\n",
       "      <td>70</td>\n",
       "      <td>90.0</td>\n",
       "      <td>0.2875</td>\n",
       "      <td>164</td>\n",
       "      <td>41.00</td>\n",
       "    </tr>\n",
       "    <tr>\n",
       "      <th>1</th>\n",
       "      <td>2016-07-02</td>\n",
       "      <td>Park</td>\n",
       "      <td>98</td>\n",
       "      <td>67</td>\n",
       "      <td>72</td>\n",
       "      <td>90.0</td>\n",
       "      <td>0.2875</td>\n",
       "      <td>165</td>\n",
       "      <td>41.25</td>\n",
       "    </tr>\n",
       "    <tr>\n",
       "      <th>2</th>\n",
       "      <td>2016-07-03</td>\n",
       "      <td>Park</td>\n",
       "      <td>110</td>\n",
       "      <td>77</td>\n",
       "      <td>71</td>\n",
       "      <td>104.0</td>\n",
       "      <td>0.2875</td>\n",
       "      <td>187</td>\n",
       "      <td>46.75</td>\n",
       "    </tr>\n",
       "    <tr>\n",
       "      <th>18</th>\n",
       "      <td>2016-07-18</td>\n",
       "      <td>Park</td>\n",
       "      <td>131</td>\n",
       "      <td>92</td>\n",
       "      <td>81</td>\n",
       "      <td>122.0</td>\n",
       "      <td>0.5750</td>\n",
       "      <td>223</td>\n",
       "      <td>111.50</td>\n",
       "    </tr>\n",
       "    <tr>\n",
       "      <th>19</th>\n",
       "      <td>2016-07-19</td>\n",
       "      <td>Park</td>\n",
       "      <td>122</td>\n",
       "      <td>85</td>\n",
       "      <td>78</td>\n",
       "      <td>113.0</td>\n",
       "      <td>0.5750</td>\n",
       "      <td>207</td>\n",
       "      <td>103.50</td>\n",
       "    </tr>\n",
       "  </tbody>\n",
       "</table>\n",
       "</div>"
      ],
      "text/plain": [
       "         Data Local  Limao  Laranja  Temperatura  Folhetos   Preco  Sales  \\\n",
       "0  2016-07-01  Park     97       67           70      90.0  0.2875    164   \n",
       "1  2016-07-02  Park     98       67           72      90.0  0.2875    165   \n",
       "2  2016-07-03  Park    110       77           71     104.0  0.2875    187   \n",
       "18 2016-07-18  Park    131       92           81     122.0  0.5750    223   \n",
       "19 2016-07-19  Park    122       85           78     113.0  0.5750    207   \n",
       "\n",
       "    Revenue  \n",
       "0     41.00  \n",
       "1     41.25  \n",
       "2     46.75  \n",
       "18   111.50  \n",
       "19   103.50  "
      ]
     },
     "execution_count": 530,
     "metadata": {},
     "output_type": "execute_result"
    }
   ],
   "source": [
    "aux = obter_preco_ajustado(limonadas, 'Park')\n",
    "aux[aux['Local'] == 'Park'].head()"
   ]
  },
  {
   "cell_type": "code",
   "execution_count": 531,
   "metadata": {},
   "outputs": [
    {
     "data": {
      "text/html": [
       "<div>\n",
       "<style scoped>\n",
       "    .dataframe tbody tr th:only-of-type {\n",
       "        vertical-align: middle;\n",
       "    }\n",
       "\n",
       "    .dataframe tbody tr th {\n",
       "        vertical-align: top;\n",
       "    }\n",
       "\n",
       "    .dataframe thead th {\n",
       "        text-align: right;\n",
       "    }\n",
       "</style>\n",
       "<table border=\"1\" class=\"dataframe\">\n",
       "  <thead>\n",
       "    <tr style=\"text-align: right;\">\n",
       "      <th></th>\n",
       "      <th>Data</th>\n",
       "      <th>Local</th>\n",
       "      <th>Limao</th>\n",
       "      <th>Laranja</th>\n",
       "      <th>Temperatura</th>\n",
       "      <th>Folhetos</th>\n",
       "      <th>Preco</th>\n",
       "      <th>Sales</th>\n",
       "      <th>Revenue</th>\n",
       "    </tr>\n",
       "  </thead>\n",
       "  <tbody>\n",
       "    <tr>\n",
       "      <th>3</th>\n",
       "      <td>2016-07-04</td>\n",
       "      <td>Beach</td>\n",
       "      <td>134</td>\n",
       "      <td>99</td>\n",
       "      <td>76</td>\n",
       "      <td>98.0</td>\n",
       "      <td>0.275</td>\n",
       "      <td>233</td>\n",
       "      <td>58.25</td>\n",
       "    </tr>\n",
       "    <tr>\n",
       "      <th>4</th>\n",
       "      <td>2016-07-05</td>\n",
       "      <td>Beach</td>\n",
       "      <td>159</td>\n",
       "      <td>118</td>\n",
       "      <td>78</td>\n",
       "      <td>135.0</td>\n",
       "      <td>0.275</td>\n",
       "      <td>277</td>\n",
       "      <td>69.25</td>\n",
       "    </tr>\n",
       "    <tr>\n",
       "      <th>5</th>\n",
       "      <td>2016-07-06</td>\n",
       "      <td>Beach</td>\n",
       "      <td>103</td>\n",
       "      <td>69</td>\n",
       "      <td>82</td>\n",
       "      <td>90.0</td>\n",
       "      <td>0.275</td>\n",
       "      <td>172</td>\n",
       "      <td>43.00</td>\n",
       "    </tr>\n",
       "    <tr>\n",
       "      <th>7</th>\n",
       "      <td>2016-07-07</td>\n",
       "      <td>Beach</td>\n",
       "      <td>143</td>\n",
       "      <td>101</td>\n",
       "      <td>81</td>\n",
       "      <td>135.0</td>\n",
       "      <td>0.275</td>\n",
       "      <td>244</td>\n",
       "      <td>61.00</td>\n",
       "    </tr>\n",
       "    <tr>\n",
       "      <th>8</th>\n",
       "      <td>2016-07-08</td>\n",
       "      <td>Beach</td>\n",
       "      <td>123</td>\n",
       "      <td>86</td>\n",
       "      <td>82</td>\n",
       "      <td>113.0</td>\n",
       "      <td>0.275</td>\n",
       "      <td>209</td>\n",
       "      <td>52.25</td>\n",
       "    </tr>\n",
       "  </tbody>\n",
       "</table>\n",
       "</div>"
      ],
      "text/plain": [
       "        Data  Local  Limao  Laranja  Temperatura  Folhetos  Preco  Sales  \\\n",
       "3 2016-07-04  Beach    134       99           76      98.0  0.275    233   \n",
       "4 2016-07-05  Beach    159      118           78     135.0  0.275    277   \n",
       "5 2016-07-06  Beach    103       69           82      90.0  0.275    172   \n",
       "7 2016-07-07  Beach    143      101           81     135.0  0.275    244   \n",
       "8 2016-07-08  Beach    123       86           82     113.0  0.275    209   \n",
       "\n",
       "   Revenue  \n",
       "3    58.25  \n",
       "4    69.25  \n",
       "5    43.00  \n",
       "7    61.00  \n",
       "8    52.25  "
      ]
     },
     "execution_count": 531,
     "metadata": {},
     "output_type": "execute_result"
    }
   ],
   "source": [
    "aux = obter_preco_ajustado(limonadas, 'Beach')\n",
    "aux[aux['Local'] == 'Beach'].head()"
   ]
  },
  {
   "cell_type": "markdown",
   "metadata": {},
   "source": [
    "#### 9) escreva uma função que receba o dataset como parâmetro e retorne o dataset com uma coluna a mais que mostre o rank de temperatura. O dataset retornado precisa estar ordenado de acordo com rank "
   ]
  },
  {
   "cell_type": "code",
   "execution_count": 532,
   "metadata": {},
   "outputs": [],
   "source": [
    "def obter_rank_temperatura(dataset, campo):\n",
    "    dataset['Rank'] = dataset[campo].rank(ascending = 0)\n",
    "    return dataset.sort_values(by=['Rank']);"
   ]
  },
  {
   "cell_type": "code",
   "execution_count": 533,
   "metadata": {},
   "outputs": [
    {
     "data": {
      "text/html": [
       "<div>\n",
       "<style scoped>\n",
       "    .dataframe tbody tr th:only-of-type {\n",
       "        vertical-align: middle;\n",
       "    }\n",
       "\n",
       "    .dataframe tbody tr th {\n",
       "        vertical-align: top;\n",
       "    }\n",
       "\n",
       "    .dataframe thead th {\n",
       "        text-align: right;\n",
       "    }\n",
       "</style>\n",
       "<table border=\"1\" class=\"dataframe\">\n",
       "  <thead>\n",
       "    <tr style=\"text-align: right;\">\n",
       "      <th></th>\n",
       "      <th>Data</th>\n",
       "      <th>Local</th>\n",
       "      <th>Limao</th>\n",
       "      <th>Laranja</th>\n",
       "      <th>Temperatura</th>\n",
       "      <th>Folhetos</th>\n",
       "      <th>Preco</th>\n",
       "      <th>Sales</th>\n",
       "      <th>Revenue</th>\n",
       "      <th>Rank</th>\n",
       "    </tr>\n",
       "  </thead>\n",
       "  <tbody>\n",
       "    <tr>\n",
       "      <th>25</th>\n",
       "      <td>2016-07-25</td>\n",
       "      <td>Park</td>\n",
       "      <td>156</td>\n",
       "      <td>113</td>\n",
       "      <td>84</td>\n",
       "      <td>135.0</td>\n",
       "      <td>0.50</td>\n",
       "      <td>269</td>\n",
       "      <td>134.50</td>\n",
       "      <td>1.5</td>\n",
       "    </tr>\n",
       "    <tr>\n",
       "      <th>12</th>\n",
       "      <td>2016-07-12</td>\n",
       "      <td>Beach</td>\n",
       "      <td>130</td>\n",
       "      <td>95</td>\n",
       "      <td>84</td>\n",
       "      <td>99.0</td>\n",
       "      <td>0.25</td>\n",
       "      <td>225</td>\n",
       "      <td>56.25</td>\n",
       "      <td>1.5</td>\n",
       "    </tr>\n",
       "    <tr>\n",
       "      <th>26</th>\n",
       "      <td>2016-07-26</td>\n",
       "      <td>Park</td>\n",
       "      <td>176</td>\n",
       "      <td>129</td>\n",
       "      <td>83</td>\n",
       "      <td>158.0</td>\n",
       "      <td>0.35</td>\n",
       "      <td>305</td>\n",
       "      <td>106.75</td>\n",
       "      <td>3.5</td>\n",
       "    </tr>\n",
       "    <tr>\n",
       "      <th>11</th>\n",
       "      <td>2016-07-11</td>\n",
       "      <td>Beach</td>\n",
       "      <td>162</td>\n",
       "      <td>120</td>\n",
       "      <td>83</td>\n",
       "      <td>135.0</td>\n",
       "      <td>0.25</td>\n",
       "      <td>282</td>\n",
       "      <td>70.50</td>\n",
       "      <td>3.5</td>\n",
       "    </tr>\n",
       "    <tr>\n",
       "      <th>24</th>\n",
       "      <td>2016-07-24</td>\n",
       "      <td>Park</td>\n",
       "      <td>121</td>\n",
       "      <td>82</td>\n",
       "      <td>82</td>\n",
       "      <td>117.0</td>\n",
       "      <td>0.50</td>\n",
       "      <td>203</td>\n",
       "      <td>101.50</td>\n",
       "      <td>8.0</td>\n",
       "    </tr>\n",
       "  </tbody>\n",
       "</table>\n",
       "</div>"
      ],
      "text/plain": [
       "         Data  Local  Limao  Laranja  Temperatura  Folhetos  Preco  Sales  \\\n",
       "25 2016-07-25   Park    156      113           84     135.0   0.50    269   \n",
       "12 2016-07-12  Beach    130       95           84      99.0   0.25    225   \n",
       "26 2016-07-26   Park    176      129           83     158.0   0.35    305   \n",
       "11 2016-07-11  Beach    162      120           83     135.0   0.25    282   \n",
       "24 2016-07-24   Park    121       82           82     117.0   0.50    203   \n",
       "\n",
       "    Revenue  Rank  \n",
       "25   134.50   1.5  \n",
       "12    56.25   1.5  \n",
       "26   106.75   3.5  \n",
       "11    70.50   3.5  \n",
       "24   101.50   8.0  "
      ]
     },
     "execution_count": 533,
     "metadata": {},
     "output_type": "execute_result"
    }
   ],
   "source": [
    "limonadas = obter_rank_temperatura(limonadas, 'Temperatura')\n",
    "limonadas.head()"
   ]
  },
  {
   "cell_type": "markdown",
   "metadata": {},
   "source": [
    "#### 10) Imprima um gráfico de linha que retorne o lucro ao longo do tempo "
   ]
  },
  {
   "cell_type": "code",
   "execution_count": 545,
   "metadata": {},
   "outputs": [
    {
     "data": {
      "image/png": "[encoded data removed]",
      "text/plain": [
       "<Figure size 1440x720 with 1 Axes>"
      ]
     },
     "metadata": {
      "needs_background": "light"
     },
     "output_type": "display_data"
    }
   ],
   "source": [
    "limonadas = limonadas.sort_values(by='Data')\n",
    "plt.plot(limonadas['Data'], limonadas['Revenue'], label='Lucro')\n",
    "\n",
    "plt.xlabel('Período')\n",
    "plt.ylabel('Receita')\n",
    "plt.title(\"Lucro x Período\")\n",
    "plt.rcParams[\"figure.figsize\"] = [20,10]\n",
    "plt.legend()\n",
    "plt.show()"
   ]
  },
  {
   "cell_type": "markdown",
   "metadata": {},
   "source": [
    "#### 11) crie um scatter-plot leaflets x sales. Existe alguma correlação entre os dados? "
   ]
  },
  {
   "cell_type": "code",
   "execution_count": 547,
   "metadata": {},
   "outputs": [
    {
     "data": {
      "text/plain": [
       "Text(0.5,1,'Comparação Folhetos x Vendas')"
      ]
     },
     "execution_count": 547,
     "metadata": {},
     "output_type": "execute_result"
    },
    {
     "data": {
      "image/png": "[encoded data removed]",
      "text/plain": [
       "<Figure size 1440x720 with 1 Axes>"
      ]
     },
     "metadata": {
      "needs_background": "light"
     },
     "output_type": "display_data"
    }
   ],
   "source": [
    "\n",
    "\n",
    "plt.scatter(limonadas['Folhetos'], limonadas['Sales'], color='r')\n",
    "plt.legend()\n",
    "plt.xlabel(\"Folhetos\")\n",
    "plt.ylabel(\"Vendas\")\n",
    "plt.title(\"Comparação Folhetos x Vendas\")"
   ]
  },
  {
   "cell_type": "markdown",
   "metadata": {},
   "source": [
    "#### 12) crie um histograma que mostre o lucro (revenue) com 10 bins"
   ]
  },
  {
   "cell_type": "code",
   "execution_count": 551,
   "metadata": {},
   "outputs": [],
   "source": [
    "def obter_histograma(atributo, dados, titulo, bins):\n",
    "    plt.hist(dados[atributo], density=False, facecolor='g', alpha=0.75, bins=bins)\n",
    "\n",
    "    plt.axvline(dados[atributo].mean(), color='k', linestyle='dashed', linewidth=1)\n",
    "    plt.xlabel(titulo)\n",
    "    plt.ylabel(atributo)\n",
    "    plt.title('Histograma de ' + atributo)\n",
    "    plt.grid(True)\n",
    "    plt.show()"
   ]
  },
  {
   "cell_type": "code",
   "execution_count": 552,
   "metadata": {},
   "outputs": [
    {
     "data": {
      "image/png": "[encoded data removed]",
      "text/plain": [
       "<Figure size 1440x720 with 1 Axes>"
      ]
     },
     "metadata": {
      "needs_background": "light"
     },
     "output_type": "display_data"
    }
   ],
   "source": [
    "obter_histograma('Revenue', limonadas, 'Histograma de Receita', 10)"
   ]
  },
  {
   "cell_type": "markdown",
   "metadata": {},
   "source": [
    "#### 13) crie um gráfico de linha que compute o lucro por tipo de fruta ao longo do tempo"
   ]
  },
  {
   "cell_type": "code",
   "execution_count": null,
   "metadata": {},
   "outputs": [],
   "source": []
  }
 ],
 "metadata": {
  "kernelspec": {
   "display_name": "Python 3",
   "language": "python",
   "name": "python3"
  },
  "language_info": {
   "codemirror_mode": {
    "name": "ipython",
    "version": 3
   },
   "file_extension": ".py",
   "mimetype": "text/x-python",
   "name": "python",
   "nbconvert_exporter": "python",
   "pygments_lexer": "ipython3",
   "version": "3.7.0"
  }
 },
 "nbformat": 4,
 "nbformat_minor": 2
}
